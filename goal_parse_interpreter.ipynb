{
 "cells": [
  {
   "cell_type": "markdown",
   "source": [
    "# Goal Parse Interpreter"
   ],
   "metadata": {
    "collapsed": false
   },
   "id": "6f45b88cefd997c0"
  },
  {
   "cell_type": "markdown",
   "source": [
    "## Approach with Regex\n",
    "### Intuition \n",
    "1. Replace all occurrences of '()' with 'o'\n",
    "2. Write the regex \"\\(|\\)\" where \"\\(\" and \"\\)\" are the symbols denoted with the escape characters and \"|\" represents the \"or\" operator."
   ],
   "metadata": {
    "collapsed": false
   },
   "id": "d8551d3812c5786c"
  },
  {
   "cell_type": "code",
   "outputs": [],
   "source": [
    "import re\n",
    "\n",
    "\n",
    "class SolutionRegex:\n",
    "    def interpret(self, command: str) -> str:\n",
    "        command = command.replace('()', 'o')\n",
    "        return re.sub(r'\\(|\\)', '', command)"
   ],
   "metadata": {
    "collapsed": false,
    "ExecuteTime": {
     "end_time": "2024-05-11T04:37:22.896956Z",
     "start_time": "2024-05-11T04:37:22.894404Z"
    }
   },
   "id": "88351443ddf121cd",
   "execution_count": 87
  },
  {
   "cell_type": "code",
   "outputs": [
    {
     "data": {
      "text/plain": "'Goal'"
     },
     "execution_count": 88,
     "metadata": {},
     "output_type": "execute_result"
    }
   ],
   "source": [
    "SolutionRegex().interpret('G()(al)')"
   ],
   "metadata": {
    "collapsed": false,
    "ExecuteTime": {
     "end_time": "2024-05-11T04:37:22.900929Z",
     "start_time": "2024-05-11T04:37:22.898191Z"
    }
   },
   "id": "85136b918c140113",
   "execution_count": 88
  },
  {
   "cell_type": "markdown",
   "source": [
    "## Approach using Stack\n",
    "### Intuition\n",
    "1. Traverse through the characters using the while loop\n",
    "2. If the char is 'G', add it to the stack\n",
    "3. If the char is 'a', add 'al' to the stack and increase i by 2 steps since we don't need to read 'l)'\n",
    "4. If the char is \")\", add 'o' because there will be no \")\" left for the case of \"(al)\" since we remove it"
   ],
   "metadata": {
    "collapsed": false
   },
   "id": "96416d733094c4a7"
  },
  {
   "cell_type": "code",
   "outputs": [],
   "source": [
    "class SolutionStack:\n",
    "    def interpret(self, command: str) -> str:\n",
    "        stack = ''\n",
    "        command_len = len(command)\n",
    "        i = 0\n",
    "        while i < command_len:\n",
    "            char = command[i]\n",
    "            if char == 'G':\n",
    "                stack += 'G'\n",
    "            elif char == 'a':\n",
    "                i += 2\n",
    "                stack += 'al'\n",
    "            elif char == ')':\n",
    "                stack += 'o'\n",
    "            i += 1\n",
    "        return stack"
   ],
   "metadata": {
    "collapsed": false,
    "ExecuteTime": {
     "end_time": "2024-05-11T04:37:22.904339Z",
     "start_time": "2024-05-11T04:37:22.901921Z"
    }
   },
   "id": "97ac7dab06553111",
   "execution_count": 89
  },
  {
   "cell_type": "code",
   "outputs": [
    {
     "data": {
      "text/plain": "'Goal'"
     },
     "execution_count": 90,
     "metadata": {},
     "output_type": "execute_result"
    }
   ],
   "source": [
    "SolutionStack().interpret('G()(al)')"
   ],
   "metadata": {
    "collapsed": false,
    "ExecuteTime": {
     "end_time": "2024-05-11T04:37:22.908486Z",
     "start_time": "2024-05-11T04:37:22.906005Z"
    }
   },
   "id": "4379c150ce0a7adb",
   "execution_count": 90
  }
 ],
 "metadata": {
  "kernelspec": {
   "display_name": "Python 3",
   "language": "python",
   "name": "python3"
  },
  "language_info": {
   "codemirror_mode": {
    "name": "ipython",
    "version": 2
   },
   "file_extension": ".py",
   "mimetype": "text/x-python",
   "name": "python",
   "nbconvert_exporter": "python",
   "pygments_lexer": "ipython2",
   "version": "2.7.6"
  }
 },
 "nbformat": 4,
 "nbformat_minor": 5
}
