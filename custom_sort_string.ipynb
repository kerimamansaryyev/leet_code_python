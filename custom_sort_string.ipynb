{
 "cells": [
  {
   "cell_type": "markdown",
   "source": [
    "# Custom Sort String\n",
    "## Intuition\n",
    "1. Create a dictionary `s_dict` that will hold default values of `int` as 0. This will be a dictionary to store usage amount of every single character of `s`.\n",
    "2. Traverse through `s` and increase usage number of characters by 1 whenever it occurs.\n",
    "3. Traverse through `order`. Access usage amount of a character by `s_dict[char]` multiply usage amount by character itself and append into the result setting the usage amount along to 0.\n",
    "4. Traverse again through characters of `s` in order to add remaining characters in original order."
   ],
   "metadata": {
    "collapsed": false
   },
   "id": "ce4c697868f37465"
  },
  {
   "cell_type": "code",
   "execution_count": 1,
   "id": "initial_id",
   "metadata": {
    "collapsed": true,
    "ExecuteTime": {
     "end_time": "2024-03-12T01:13:03.872460Z",
     "start_time": "2024-03-12T01:13:03.868955Z"
    }
   },
   "outputs": [],
   "source": [
    "from collections import defaultdict\n",
    "\n",
    "\n",
    "class Solution:\n",
    "    def customSortString(self, order: str, s: str) -> str:\n",
    "        s_dict = defaultdict(int)\n",
    "        result = ''\n",
    "        for char in s: s_dict[char] += 1\n",
    "        for char in order:\n",
    "            result += char * s_dict[char]\n",
    "            s_dict[char] = 0\n",
    "        for char in s:\n",
    "            remainder = s_dict[char]\n",
    "            if remainder > 0:\n",
    "                result += char\n",
    "                s_dict[char] = remainder - 1\n",
    "\n",
    "        return result"
   ]
  },
  {
   "cell_type": "code",
   "outputs": [
    {
     "data": {
      "text/plain": "'cbad'"
     },
     "execution_count": 2,
     "metadata": {},
     "output_type": "execute_result"
    }
   ],
   "source": [
    "Solution().customSortString(\"cba\", \"abcd\")"
   ],
   "metadata": {
    "collapsed": false,
    "ExecuteTime": {
     "end_time": "2024-03-12T01:13:03.884107Z",
     "start_time": "2024-03-12T01:13:03.880958Z"
    }
   },
   "id": "9b351c82bec5d15c",
   "execution_count": 2
  },
  {
   "cell_type": "markdown",
   "source": [
    "When there are not enough characters to fulfill a whole of `order`, just add remaining characters in original order.\n",
    "\n",
    "So it was `abcd` and its length is less than `bcafg`. It means, that when we fulfill `bca`, `d` will be added as a result of the second loop."
   ],
   "metadata": {
    "collapsed": false
   },
   "id": "1243acfb2e3a8a7"
  },
  {
   "cell_type": "code",
   "outputs": [
    {
     "data": {
      "text/plain": "'bcad'"
     },
     "execution_count": 3,
     "metadata": {},
     "output_type": "execute_result"
    }
   ],
   "source": [
    "Solution().customSortString(\"bcafg\", \"abcd\")"
   ],
   "metadata": {
    "collapsed": false,
    "ExecuteTime": {
     "end_time": "2024-03-12T01:13:03.887304Z",
     "start_time": "2024-03-12T01:13:03.885287Z"
    }
   },
   "id": "593e06ddf22cf128",
   "execution_count": 3
  },
  {
   "cell_type": "code",
   "outputs": [
    {
     "data": {
      "text/plain": "'kqeep'"
     },
     "execution_count": 4,
     "metadata": {},
     "output_type": "execute_result"
    }
   ],
   "source": [
    "Solution().customSortString(\"kqep\", \"pekeq\")"
   ],
   "metadata": {
    "collapsed": false,
    "ExecuteTime": {
     "end_time": "2024-03-12T01:13:03.890465Z",
     "start_time": "2024-03-12T01:13:03.888377Z"
    }
   },
   "id": "1de224b75c1b9fd9",
   "execution_count": 4
  }
 ],
 "metadata": {
  "kernelspec": {
   "display_name": "Python 3",
   "language": "python",
   "name": "python3"
  },
  "language_info": {
   "codemirror_mode": {
    "name": "ipython",
    "version": 2
   },
   "file_extension": ".py",
   "mimetype": "text/x-python",
   "name": "python",
   "nbconvert_exporter": "python",
   "pygments_lexer": "ipython2",
   "version": "2.7.6"
  }
 },
 "nbformat": 4,
 "nbformat_minor": 5
}
