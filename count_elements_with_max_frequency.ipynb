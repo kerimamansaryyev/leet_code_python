{
 "cells": [
  {
   "cell_type": "markdown",
   "source": [
    "# Count elements with max frequency\n",
    "\n",
    "## Intuition\n",
    "1. Create a table of frequency counts mapped per number.\n",
    "2. Create max frequency and frequency counter variables.\n",
    "3. Iterate through the numbers.\n",
    "   While iterating, increase the frequency count per number.\n",
    "   If the frequency count of the number is more than max frequency, reassign it to max frequency\n",
    "   along with resetting the max frequency count to 0.\n",
    "   Right after, check if the frequency count equals to the max frequency, then increase the max frequency count.\n",
    "4. Return the max frequency multiplied by max frequency count."
   ],
   "metadata": {
    "collapsed": false
   },
   "id": "19d936105ad59042"
  },
  {
   "cell_type": "code",
   "outputs": [],
   "source": [
    "from collections import defaultdict\n",
    "from typing import List\n",
    "\n",
    "\n",
    "class Solution:\n",
    "    def maxFrequencyElements(self, nums: List[int]) -> int:\n",
    "        num_freq = defaultdict(int)\n",
    "        max_freq_count = 0\n",
    "        max_freq = 0\n",
    "\n",
    "        for num in nums:\n",
    "            num_freq[num] += 1\n",
    "            freq = num_freq[num]\n",
    "            if freq > max_freq:\n",
    "                max_freq = freq\n",
    "                max_freq_count = 0\n",
    "            if freq == max_freq:\n",
    "                max_freq_count += 1\n",
    "\n",
    "        return max_freq * max_freq_count"
   ],
   "metadata": {
    "collapsed": false,
    "ExecuteTime": {
     "end_time": "2024-08-04T03:40:57.423108Z",
     "start_time": "2024-08-04T03:40:57.418511Z"
    }
   },
   "id": "96be5a5b0d626b40",
   "execution_count": 43
  },
  {
   "cell_type": "code",
   "outputs": [
    {
     "data": {
      "text/plain": "4"
     },
     "execution_count": 41,
     "metadata": {},
     "output_type": "execute_result"
    }
   ],
   "source": [
    "Solution().maxFrequencyElements([1,2,2,3,1,4])"
   ],
   "metadata": {
    "collapsed": false,
    "ExecuteTime": {
     "end_time": "2024-08-04T03:35:30.838504Z",
     "start_time": "2024-08-04T03:35:30.834909Z"
    }
   },
   "id": "a37d5c169491074d",
   "execution_count": 41
  },
  {
   "cell_type": "code",
   "outputs": [
    {
     "data": {
      "text/plain": "5"
     },
     "execution_count": 42,
     "metadata": {},
     "output_type": "execute_result"
    }
   ],
   "source": [
    "Solution().maxFrequencyElements([1,2,3,4,5])"
   ],
   "metadata": {
    "collapsed": false,
    "ExecuteTime": {
     "end_time": "2024-08-04T03:35:32.855922Z",
     "start_time": "2024-08-04T03:35:32.852304Z"
    }
   },
   "id": "4cef52d5521ba563",
   "execution_count": 42
  }
 ],
 "metadata": {
  "kernelspec": {
   "display_name": "Python 3",
   "language": "python",
   "name": "python3"
  },
  "language_info": {
   "codemirror_mode": {
    "name": "ipython",
    "version": 2
   },
   "file_extension": ".py",
   "mimetype": "text/x-python",
   "name": "python",
   "nbconvert_exporter": "python",
   "pygments_lexer": "ipython2",
   "version": "2.7.6"
  }
 },
 "nbformat": 4,
 "nbformat_minor": 5
}
