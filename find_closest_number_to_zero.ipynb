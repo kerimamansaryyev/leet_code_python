{
 "cells": [
  {
   "cell_type": "code",
   "execution_count": 11,
   "id": "initial_id",
   "metadata": {
    "collapsed": true,
    "ExecuteTime": {
     "end_time": "2024-08-06T13:24:43.253126Z",
     "start_time": "2024-08-06T13:24:43.249245Z"
    }
   },
   "outputs": [],
   "source": [
    "from typing import List\n",
    "\n",
    "\n",
    "class Solution:\n",
    "    def findClosestNumber(self, nums: List[int]) -> int:\n",
    "        abs_min = None\n",
    "        number = None\n",
    "\n",
    "        for num in nums:\n",
    "            if abs_min is None and number is None:\n",
    "                abs_min = abs(num)\n",
    "                number = num\n",
    "            elif abs(num) < abs_min:\n",
    "                abs_min = abs(num)\n",
    "                number = num\n",
    "            elif abs(num) == abs_min:\n",
    "                number = max(num, number)\n",
    "        \n",
    "        return number or 0"
   ]
  },
  {
   "cell_type": "code",
   "outputs": [
    {
     "data": {
      "text/plain": "0"
     },
     "execution_count": 12,
     "metadata": {},
     "output_type": "execute_result"
    }
   ],
   "source": [
    "Solution().findClosestNumber([0,1])"
   ],
   "metadata": {
    "collapsed": false,
    "ExecuteTime": {
     "end_time": "2024-08-06T13:24:45.393683Z",
     "start_time": "2024-08-06T13:24:45.390321Z"
    }
   },
   "id": "acc76829b8f8bc13",
   "execution_count": 12
  }
 ],
 "metadata": {
  "kernelspec": {
   "display_name": "Python 3",
   "language": "python",
   "name": "python3"
  },
  "language_info": {
   "codemirror_mode": {
    "name": "ipython",
    "version": 2
   },
   "file_extension": ".py",
   "mimetype": "text/x-python",
   "name": "python",
   "nbconvert_exporter": "python",
   "pygments_lexer": "ipython2",
   "version": "2.7.6"
  }
 },
 "nbformat": 4,
 "nbformat_minor": 5
}
