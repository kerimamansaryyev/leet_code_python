{
 "cells": [
  {
   "cell_type": "markdown",
   "source": [
    "# Reverse String\n",
    "## Intuition1:\n",
    "Define `head` and `tail` which will track indices from the beginning and the end respectively that will swap elements at the indices along traversing while `head` is going to be increased and `tail` will be decreased."
   ],
   "metadata": {
    "collapsed": false
   },
   "id": "66fcb40366223d63"
  },
  {
   "cell_type": "code",
   "outputs": [],
   "source": [
    "from typing import List\n",
    "\n",
    "class Solution:\n",
    "    def reverseString(self, s: List[str]) -> None:\n",
    "        head = 0\n",
    "        n = len(s)\n",
    "        tail = n - 1\n",
    "        while head < tail:\n",
    "            s[head], s[tail] = s[tail], s[head]\n",
    "            head += 1\n",
    "            tail -= 1"
   ],
   "metadata": {
    "collapsed": false,
    "ExecuteTime": {
     "end_time": "2024-03-02T17:46:34.963576Z",
     "start_time": "2024-03-02T17:46:34.955302Z"
    }
   },
   "id": "9b29a1f4336f5d28",
   "execution_count": 6
  },
  {
   "cell_type": "code",
   "outputs": [
    {
     "name": "stdout",
     "output_type": "stream",
     "text": [
      "['o', 'l', 'l', 'e', 'h']\n"
     ]
    }
   ],
   "source": [
    "myList = list(\"hello\")\n",
    "Solution().reverseString(myList)\n",
    "print(myList)"
   ],
   "metadata": {
    "collapsed": false,
    "ExecuteTime": {
     "end_time": "2024-03-02T17:46:37.882584Z",
     "start_time": "2024-03-02T17:46:37.879725Z"
    }
   },
   "id": "1a9fbb82e10498a0",
   "execution_count": 7
  }
 ],
 "metadata": {
  "kernelspec": {
   "display_name": "Python 3",
   "language": "python",
   "name": "python3"
  },
  "language_info": {
   "codemirror_mode": {
    "name": "ipython",
    "version": 2
   },
   "file_extension": ".py",
   "mimetype": "text/x-python",
   "name": "python",
   "nbconvert_exporter": "python",
   "pygments_lexer": "ipython2",
   "version": "2.7.6"
  }
 },
 "nbformat": 4,
 "nbformat_minor": 5
}
