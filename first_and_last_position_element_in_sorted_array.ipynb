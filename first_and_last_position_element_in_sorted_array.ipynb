{
 "cells": [
  {
   "cell_type": "markdown",
   "source": [
    "# First and last position element in sorted array\n",
    "## Intuition\n",
    "1. Find the first occurrence of index of the target using binary search.\n",
    "2. Traverse from the found index to find the end index.\n",
    "3. If the end index does not exist, return the result, as `[start_index, start_index]`."
   ],
   "metadata": {
    "collapsed": false
   },
   "id": "feb22b3b9994ff1a"
  },
  {
   "cell_type": "code",
   "execution_count": 9,
   "id": "initial_id",
   "metadata": {
    "collapsed": true,
    "ExecuteTime": {
     "end_time": "2024-03-14T16:26:01.911874Z",
     "start_time": "2024-03-14T16:26:01.907362Z"
    }
   },
   "outputs": [],
   "source": [
    "from typing import List\n",
    "\n",
    "\n",
    "class Solution:\n",
    "    def searchRange(self, nums: List[int], target: int) -> List[int]:\n",
    "        if target not in nums: return [-1, -1]\n",
    "        tr = index = end_index = nums.index(target)\n",
    "        tr += 1\n",
    "        num_len = len(nums)\n",
    "        while tr < num_len and nums[tr] == target:\n",
    "            end_index = tr\n",
    "            tr += 1\n",
    "        return [index, end_index]"
   ]
  },
  {
   "cell_type": "code",
   "outputs": [
    {
     "data": {
      "text/plain": "[-1, -1]"
     },
     "execution_count": 6,
     "metadata": {},
     "output_type": "execute_result"
    }
   ],
   "source": [
    "Solution().searchRange([], 8)"
   ],
   "metadata": {
    "collapsed": false,
    "ExecuteTime": {
     "end_time": "2024-03-14T16:11:48.336081Z",
     "start_time": "2024-03-14T16:11:48.331268Z"
    }
   },
   "id": "b6a3e692c62d374c",
   "execution_count": 6
  },
  {
   "cell_type": "code",
   "outputs": [
    {
     "data": {
      "text/plain": "[3, 5]"
     },
     "execution_count": 8,
     "metadata": {},
     "output_type": "execute_result"
    }
   ],
   "source": [
    "Solution().searchRange([5, 7, 7, 6, 8, 6], 6)"
   ],
   "metadata": {
    "collapsed": false,
    "ExecuteTime": {
     "end_time": "2024-03-14T16:12:01.619778Z",
     "start_time": "2024-03-14T16:12:01.615921Z"
    }
   },
   "id": "77faf169981f9670",
   "execution_count": 8
  }
 ],
 "metadata": {
  "kernelspec": {
   "display_name": "Python 3",
   "language": "python",
   "name": "python3"
  },
  "language_info": {
   "codemirror_mode": {
    "name": "ipython",
    "version": 2
   },
   "file_extension": ".py",
   "mimetype": "text/x-python",
   "name": "python",
   "nbconvert_exporter": "python",
   "pygments_lexer": "ipython2",
   "version": "2.7.6"
  }
 },
 "nbformat": 4,
 "nbformat_minor": 5
}
