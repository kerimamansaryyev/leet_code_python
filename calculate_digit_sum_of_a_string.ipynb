{
 "cells": [
  {
   "cell_type": "code",
   "execution_count": 22,
   "id": "initial_id",
   "metadata": {
    "collapsed": true,
    "ExecuteTime": {
     "end_time": "2024-08-06T14:07:17.937219Z",
     "start_time": "2024-08-06T14:07:17.933475Z"
    }
   },
   "outputs": [],
   "source": [
    "class Solution:\n",
    "    def digitSum(self, s: str, k: int) -> str:\n",
    "\n",
    "        while len(s) > k:\n",
    "            temp = ''\n",
    "            s_len = len(s)\n",
    "            start_index = 0\n",
    "            while start_index < s_len:\n",
    "                stop_index = min(start_index + k, s_len)\n",
    "                *parts, = s[start_index:stop_index]\n",
    "                temp += str(sum([int(part) for part in parts]))\n",
    "                start_index += k\n",
    "            s = temp\n",
    "\n",
    "        return s"
   ]
  },
  {
   "cell_type": "code",
   "outputs": [
    {
     "data": {
      "text/plain": "'135'"
     },
     "execution_count": 21,
     "metadata": {},
     "output_type": "execute_result"
    }
   ],
   "source": [
    "Solution().digitSum(\"11111222223\", 3)"
   ],
   "metadata": {
    "collapsed": false,
    "ExecuteTime": {
     "end_time": "2024-08-06T14:05:46.536380Z",
     "start_time": "2024-08-06T14:05:46.533634Z"
    }
   },
   "id": "eb151e5dcffed223",
   "execution_count": 21
  }
 ],
 "metadata": {
  "kernelspec": {
   "display_name": "Python 3",
   "language": "python",
   "name": "python3"
  },
  "language_info": {
   "codemirror_mode": {
    "name": "ipython",
    "version": 2
   },
   "file_extension": ".py",
   "mimetype": "text/x-python",
   "name": "python",
   "nbconvert_exporter": "python",
   "pygments_lexer": "ipython2",
   "version": "2.7.6"
  }
 },
 "nbformat": 4,
 "nbformat_minor": 5
}
