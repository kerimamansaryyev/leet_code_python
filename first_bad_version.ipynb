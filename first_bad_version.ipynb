{
 "cells": [
  {
   "cell_type": "markdown",
   "source": [
    "# First Bad Version\n",
    "## Intuition\n",
    "1. Bad versions are available limited to following constraints: 1 to n\n",
    "2. So specify the lower bound as 1 and upper bound as `n`\n",
    "3. Apply binary search, find the `mid` between the lower bound and upper bound\n",
    "4. If mid is a good version, then you need to set the lower bound to one step further excluding it\n",
    "5. If mis is a bad version, then set the upper bound to the mid itself\n",
    "6. Repeat until the bounds get equal"
   ],
   "metadata": {
    "collapsed": false
   },
   "id": "2fb2f6e48a83200a"
  },
  {
   "cell_type": "code",
   "execution_count": 2,
   "id": "initial_id",
   "metadata": {
    "collapsed": true,
    "ExecuteTime": {
     "end_time": "2024-05-09T23:50:12.475942Z",
     "start_time": "2024-05-09T23:50:12.472912Z"
    }
   },
   "outputs": [],
   "source": [
    "def isBadVersion(version: int) -> bool: return version >= 4;\n",
    "\n",
    "\n",
    "class Solution:\n",
    "    def firstBadVersion(self, n: int) -> int:\n",
    "        upper_bound = n\n",
    "        lower_bound = 1\n",
    "\n",
    "        while lower_bound != upper_bound:\n",
    "            mid = (lower_bound + upper_bound) // 2\n",
    "            if not isBadVersion(mid): lower_bound = mid + 1\n",
    "            else: upper_bound = mid\n",
    "\n",
    "        return lower_bound"
   ]
  },
  {
   "cell_type": "code",
   "outputs": [
    {
     "data": {
      "text/plain": "4"
     },
     "execution_count": 4,
     "metadata": {},
     "output_type": "execute_result"
    }
   ],
   "source": [
    "Solution().firstBadVersion(11)"
   ],
   "metadata": {
    "collapsed": false,
    "ExecuteTime": {
     "end_time": "2024-05-09T23:50:15.110077Z",
     "start_time": "2024-05-09T23:50:15.105614Z"
    }
   },
   "id": "11f9c84d67e147f2",
   "execution_count": 4
  }
 ],
 "metadata": {
  "kernelspec": {
   "display_name": "Python 3",
   "language": "python",
   "name": "python3"
  },
  "language_info": {
   "codemirror_mode": {
    "name": "ipython",
    "version": 2
   },
   "file_extension": ".py",
   "mimetype": "text/x-python",
   "name": "python",
   "nbconvert_exporter": "python",
   "pygments_lexer": "ipython2",
   "version": "2.7.6"
  }
 },
 "nbformat": 4,
 "nbformat_minor": 5
}
