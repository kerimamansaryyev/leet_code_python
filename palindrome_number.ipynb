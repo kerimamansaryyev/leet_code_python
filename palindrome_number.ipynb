{
 "cells": [
  {
   "cell_type": "markdown",
   "source": [
    "# Palindrome number\n",
    "## Intuition\n",
    "1. If the number is negative - return `False`.\n",
    "2. Start building a new number which is a reverse of the original one. Start with 0.\n",
    "3. Start decomposing the original number into digits:   \n",
    "   ```\n",
    "   x: 1221\n",
    "   new_number: 0\n",
    "   Take the last digit and add it to the new number\n",
    "   Decrease the original number by integer division with 10\n",
    "   \n",
    "   x: 122\n",
    "   new_number: 1\n",
    "   Create a space for a new digit being added\n",
    "   Repeat the previous steps\n",
    "   new_number: 10\n",
    "   \n",
    "   x: 12\n",
    "   new_number: 12\n",
    "   new_number: 120\n",
    "   \n",
    "   x: 1\n",
    "   new number: 122\n",
    "   new_number: 1220\n",
    "   \n",
    "   x: 0\n",
    "   new_number: 1221\n",
    "   \n",
    "   Now check if it's the same as original number\n",
    "   ```"
   ],
   "metadata": {
    "collapsed": false
   },
   "id": "19d532e69136f49c"
  },
  {
   "cell_type": "code",
   "execution_count": 56,
   "id": "initial_id",
   "metadata": {
    "collapsed": true,
    "ExecuteTime": {
     "end_time": "2024-03-12T15:39:21.145297Z",
     "start_time": "2024-03-12T15:39:21.141884Z"
    }
   },
   "outputs": [],
   "source": [
    "class Solution(object):\n",
    "    def isPalindrome(self, x):\n",
    "        if x < 0: return False\n",
    "        new_num,original = 0,x        \n",
    "        while x > 0:\n",
    "            new_num *= 10\n",
    "            last_digit = x % 10\n",
    "            new_num += last_digit\n",
    "            x //= 10\n",
    "        \n",
    "        return new_num == original"
   ]
  },
  {
   "cell_type": "code",
   "outputs": [
    {
     "data": {
      "text/plain": "True"
     },
     "execution_count": 57,
     "metadata": {},
     "output_type": "execute_result"
    }
   ],
   "source": [
    "Solution().isPalindrome(1)"
   ],
   "metadata": {
    "collapsed": false,
    "ExecuteTime": {
     "end_time": "2024-03-12T15:39:22.998789Z",
     "start_time": "2024-03-12T15:39:22.995025Z"
    }
   },
   "id": "e9dff0a9a6454e7c",
   "execution_count": 57
  },
  {
   "cell_type": "code",
   "outputs": [
    {
     "data": {
      "text/plain": "True"
     },
     "execution_count": 58,
     "metadata": {},
     "output_type": "execute_result"
    }
   ],
   "source": [
    "Solution().isPalindrome(1221)"
   ],
   "metadata": {
    "collapsed": false,
    "ExecuteTime": {
     "end_time": "2024-03-12T16:47:42.581212Z",
     "start_time": "2024-03-12T16:47:42.574087Z"
    }
   },
   "id": "8e095b388c4b3e02",
   "execution_count": 58
  }
 ],
 "metadata": {
  "kernelspec": {
   "display_name": "Python 3",
   "language": "python",
   "name": "python3"
  },
  "language_info": {
   "codemirror_mode": {
    "name": "ipython",
    "version": 2
   },
   "file_extension": ".py",
   "mimetype": "text/x-python",
   "name": "python",
   "nbconvert_exporter": "python",
   "pygments_lexer": "ipython2",
   "version": "2.7.6"
  }
 },
 "nbformat": 4,
 "nbformat_minor": 5
}
