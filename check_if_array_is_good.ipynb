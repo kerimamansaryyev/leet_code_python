{
 "cells": [
  {
   "cell_type": "markdown",
   "source": [
    "# Check if array is Good\n",
    "\n",
    "## Intuition\n",
    "1. From the description, the expected maximum number is `num.length - 1` since `nums = [1,2...n+1,n,n]`.\n",
    "2. Create a default int dictionary `visited_count` to mark the visited numbers.\n",
    "3. Iterate through the numbers:\n",
    "   1. If the number is more than expected maximum number, there is no way the list satisfies the requirements.\n",
    "   2. The number can not be visited twice if it's the regular one.\n",
    "   3. Potential max number can not be visited more than 2 times since it must be present exactly 2 times.\n",
    "4. Iterate through 1 to `expected_max_num-1`, if any number wasn't visited exactly 1 time, return `False`.\n",
    "5. In any other case, return `True`. "
   ],
   "metadata": {
    "collapsed": false
   },
   "id": "592135a4563e7ef3"
  },
  {
   "cell_type": "code",
   "outputs": [],
   "source": [
    "from collections import defaultdict\n",
    "from typing import List\n",
    "\n",
    "\n",
    "class Solution:\n",
    "    def isGood(self, nums: List[int]) -> bool:\n",
    "        expected_max_num = len(nums) - 1\n",
    "        visited_count = defaultdict(int)\n",
    "\n",
    "        for num in nums:\n",
    "            if num > expected_max_num:\n",
    "                return False\n",
    "\n",
    "            visited_count[num] += 1\n",
    "            current_visited_count = visited_count[num]\n",
    "\n",
    "            if (num != expected_max_num and current_visited_count > 1) or current_visited_count > 2:\n",
    "                return False\n",
    "\n",
    "        for i in range(1, expected_max_num - 1):\n",
    "            if visited_count[i] != 1:\n",
    "                return False\n",
    "\n",
    "        return True\n"
   ],
   "metadata": {
    "collapsed": false,
    "ExecuteTime": {
     "end_time": "2024-08-05T00:29:41.911665Z",
     "start_time": "2024-08-05T00:29:41.907984Z"
    }
   },
   "id": "4c8aa0d1f9d596e5",
   "execution_count": 16
  },
  {
   "cell_type": "code",
   "outputs": [
    {
     "data": {
      "text/plain": "False"
     },
     "execution_count": 17,
     "metadata": {},
     "output_type": "execute_result"
    }
   ],
   "source": [
    "Solution().isGood([2, 1, 3])"
   ],
   "metadata": {
    "collapsed": false,
    "ExecuteTime": {
     "end_time": "2024-08-05T00:29:41.915799Z",
     "start_time": "2024-08-05T00:29:41.913193Z"
    }
   },
   "id": "ff917efa7b2e71e0",
   "execution_count": 17
  },
  {
   "cell_type": "code",
   "outputs": [
    {
     "data": {
      "text/plain": "True"
     },
     "execution_count": 18,
     "metadata": {},
     "output_type": "execute_result"
    }
   ],
   "source": [
    "Solution().isGood([1, 3, 3, 2])"
   ],
   "metadata": {
    "collapsed": false,
    "ExecuteTime": {
     "end_time": "2024-08-05T00:29:41.919710Z",
     "start_time": "2024-08-05T00:29:41.917077Z"
    }
   },
   "id": "4622b6dfc790c4a7",
   "execution_count": 18
  }
 ],
 "metadata": {
  "kernelspec": {
   "display_name": "Python 3",
   "language": "python",
   "name": "python3"
  },
  "language_info": {
   "codemirror_mode": {
    "name": "ipython",
    "version": 2
   },
   "file_extension": ".py",
   "mimetype": "text/x-python",
   "name": "python",
   "nbconvert_exporter": "python",
   "pygments_lexer": "ipython2",
   "version": "2.7.6"
  }
 },
 "nbformat": 4,
 "nbformat_minor": 5
}
