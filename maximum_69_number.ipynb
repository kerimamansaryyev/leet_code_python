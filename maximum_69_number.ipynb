{
 "cells": [
  {
   "cell_type": "markdown",
   "source": [
    "# Maximum 69 Number\n",
    "## Intuition\n",
    "The maximum number can be built replacing the first occurrence of 6 by 9 since there is no reason descending further."
   ],
   "metadata": {
    "collapsed": false
   },
   "id": "8ef8df6dc241abb7"
  },
  {
   "cell_type": "code",
   "execution_count": 13,
   "id": "initial_id",
   "metadata": {
    "collapsed": true,
    "ExecuteTime": {
     "end_time": "2024-05-11T04:51:30.232923Z",
     "start_time": "2024-05-11T04:51:30.228687Z"
    }
   },
   "outputs": [],
   "source": [
    "class Solution:\n",
    "    def maximum69Number (self, num: int) -> int:\n",
    "        return int(str(num).replace('6', '9', 1))"
   ]
  },
  {
   "cell_type": "code",
   "outputs": [
    {
     "data": {
      "text/plain": "9669"
     },
     "execution_count": 14,
     "metadata": {},
     "output_type": "execute_result"
    }
   ],
   "source": [
    "Solution().maximum69Number(9669)"
   ],
   "metadata": {
    "collapsed": false,
    "ExecuteTime": {
     "end_time": "2024-05-11T04:51:31.559527Z",
     "start_time": "2024-05-11T04:51:31.555497Z"
    }
   },
   "id": "d59c8091eb89a2bf",
   "execution_count": 14
  }
 ],
 "metadata": {
  "kernelspec": {
   "display_name": "Python 3",
   "language": "python",
   "name": "python3"
  },
  "language_info": {
   "codemirror_mode": {
    "name": "ipython",
    "version": 2
   },
   "file_extension": ".py",
   "mimetype": "text/x-python",
   "name": "python",
   "nbconvert_exporter": "python",
   "pygments_lexer": "ipython2",
   "version": "2.7.6"
  }
 },
 "nbformat": 4,
 "nbformat_minor": 5
}
