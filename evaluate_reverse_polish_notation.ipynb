{
 "cells": [
  {
   "cell_type": "markdown",
   "source": [
    "# Evaluate reverse polish notation\n",
    "## Intuition\n",
    "1. Define a stack `num_stack`.\n",
    "2. Traverse through elements of string list.\n",
    "3. Whenever you meet a number/digit - append it to the stack.\n",
    "4. Else, call `performMath` with corresponding operation on the operands. Where `operand2` is the top element of the stack and `operand1` is the element after `operand2`.\n",
    "5. Append result of `performMath` to the stack so we can use it as an operand in for a next sign.\n",
    "6. In the end, there must be a single element left in the stack - this is our result. Result of the last `performMath` operation.\n",
    "\n",
    "## Visualization\n",
    "Given list: `[\"4\",\"13\",\"5\",\"/\",\"+\"]`\n",
    "\n",
    "Until we reach the sign `/`, our stack looks like this:\n",
    "`[4,13,5]`\n",
    "When we reach the sign `/`, we need operands to perform computation, so:\n",
    "\n",
    "1. Let's pop 5 as `operand2` and 13 as `operand1` and perform computation:\n",
    "    ```\n",
    "    13 / 5 = 2\n",
    "    ```\n",
    "2. Let's append the result to the stack, so our stack looks like this:\n",
    "`[4,2]`\n",
    "\n",
    "Next, we meet the sign `+`, so:\n",
    "1. Let's pop 2 as `operand2` and 4 as `operand1` and perform computation:\n",
    "    ```\n",
    "    4 + 2 = 6\n",
    "    ```\n",
    "2. Let's append the result to the stack, so our stack looks like this:\n",
    "`[6]`\n",
    "\n",
    "There are no other symbols left, so the last element of the stack is our result."
   ],
   "metadata": {
    "collapsed": false
   },
   "id": "a7eaf3f19838f498"
  },
  {
   "cell_type": "markdown",
   "source": [
    "Let's define the math method. The logic behind it is pretty basic except the division operation. We need to convert it to `int` manually not using `//` integer division because small negative value divided by larger value of its absolute will result with -1.\n",
    "Example: `6 // -132 = -1`"
   ],
   "metadata": {
    "collapsed": false
   },
   "id": "eb60f850e8dd2ed3"
  },
  {
   "cell_type": "code",
   "outputs": [],
   "source": [
    "def performMath(operand2: int, operand1: int, symbol: chr) -> int:\n",
    "    if symbol == '+': return operand1 + operand2\n",
    "    if symbol == '-': return operand1 - operand2\n",
    "    if symbol == '/': return int(operand1 / operand2)\n",
    "    if symbol == '*': return operand1 * operand2"
   ],
   "metadata": {
    "collapsed": false,
    "ExecuteTime": {
     "end_time": "2024-03-07T17:53:01.022713Z",
     "start_time": "2024-03-07T17:53:01.019541Z"
    }
   },
   "id": "3ac88f52847c0e09",
   "execution_count": 149
  },
  {
   "cell_type": "markdown",
   "source": [
    "Let's define `is_number` method. Negative numbers in `.isdigit` method are not recognized. Therefore, we shall use the trick to take the rest of the string after the negative sign using slicing operation: `s[1:]`."
   ],
   "metadata": {
    "collapsed": false
   },
   "id": "4d73a091b651743a"
  },
  {
   "cell_type": "code",
   "outputs": [],
   "source": [
    "def is_number(input_str):\n",
    "    return input_str.isdigit() or input_str[1:].isdigit()"
   ],
   "metadata": {
    "collapsed": false,
    "ExecuteTime": {
     "end_time": "2024-03-07T17:53:01.026358Z",
     "start_time": "2024-03-07T17:53:01.024167Z"
    }
   },
   "id": "e6c289e6f5fcd6dd",
   "execution_count": 150
  },
  {
   "cell_type": "code",
   "execution_count": 151,
   "id": "initial_id",
   "metadata": {
    "collapsed": true,
    "ExecuteTime": {
     "end_time": "2024-03-07T17:53:01.029937Z",
     "start_time": "2024-03-07T17:53:01.027619Z"
    }
   },
   "outputs": [],
   "source": [
    "from typing import List\n",
    "\n",
    "\n",
    "class Solution:\n",
    "    def evalRPN(self, tokens: List[str]) -> int:\n",
    "        num_stack = []\n",
    "        for token in tokens:\n",
    "            if is_number(token):\n",
    "                num_stack.append(int(token))\n",
    "            else:\n",
    "                num_stack.append(performMath(num_stack.pop(), num_stack.pop(), token))\n",
    "\n",
    "        return num_stack.pop()"
   ]
  },
  {
   "cell_type": "code",
   "outputs": [
    {
     "data": {
      "text/plain": "22"
     },
     "execution_count": 152,
     "metadata": {},
     "output_type": "execute_result"
    }
   ],
   "source": [
    "Solution().evalRPN([\"10\", \"6\", \"-9\", \"3\", \"+\", \"-11\", \"*\", \"/\", \"*\", \"17\", \"+\", \"5\", \"+\"])"
   ],
   "metadata": {
    "collapsed": false,
    "ExecuteTime": {
     "end_time": "2024-03-07T17:53:01.038303Z",
     "start_time": "2024-03-07T17:53:01.035639Z"
    }
   },
   "id": "6e9ede7bae53867a",
   "execution_count": 152
  },
  {
   "cell_type": "code",
   "outputs": [
    {
     "data": {
      "text/plain": "-7"
     },
     "execution_count": 153,
     "metadata": {},
     "output_type": "execute_result"
    }
   ],
   "source": [
    "Solution().evalRPN([\"4\", \"-2\", \"/\", \"2\", \"-3\", \"-\", \"-\"])"
   ],
   "metadata": {
    "collapsed": false,
    "ExecuteTime": {
     "end_time": "2024-03-07T17:53:03.783161Z",
     "start_time": "2024-03-07T17:53:03.779083Z"
    }
   },
   "id": "7a5f69e780eaa6aa",
   "execution_count": 153
  }
 ],
 "metadata": {
  "kernelspec": {
   "display_name": "Python 3",
   "language": "python",
   "name": "python3"
  },
  "language_info": {
   "codemirror_mode": {
    "name": "ipython",
    "version": 2
   },
   "file_extension": ".py",
   "mimetype": "text/x-python",
   "name": "python",
   "nbconvert_exporter": "python",
   "pygments_lexer": "ipython2",
   "version": "2.7.6"
  }
 },
 "nbformat": 4,
 "nbformat_minor": 5
}
