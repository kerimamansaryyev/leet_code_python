{
 "cells": [
  {
   "cell_type": "markdown",
   "source": [
    "# Word Pattern\n",
    "## Intuition\n",
    "1. Split the original string `s` by space `' '` so it will give us strings of `words`.\n",
    "2. If length of `pattern` and `words` are not equal - then the method must return `False` immediately because there is no clue checking it since it will not satisfy the sequence of the pattern already.\n",
    "3. Otherwise, create `mapping` to map words to a specific pattern and create `visited_patterns` so we know which patterns have already been assigned.\n",
    "4. In case if the pattern letter has not been visited, check if the word has been assigned to a specific pattern. In that case, return `False`, otherwise, add the pair to `mapping` and mark the pattern letter as visited.\n",
    "5. In case if the pattern letter has been visited but the word has no mapped pair, or the word's pair is not equal to the current pattern letter in the sequence - return `False`.\n",
    "6. If the method has not completed with `False` before, everything is ok, return `True`."
   ],
   "metadata": {
    "collapsed": false
   },
   "id": "22596bf34a3a112c"
  },
  {
   "cell_type": "code",
   "outputs": [],
   "source": [
    "class Solution:\n",
    "    def wordPattern(self, pattern: str, s: str) -> bool:\n",
    "        words = s.split(' ')\n",
    "        if len(words) != len(pattern): return False\n",
    "        mapping = {}\n",
    "        visited_patterns = set()\n",
    "        for i in range(len(words)):\n",
    "            word = words[i]\n",
    "            curr_pattern = pattern[i]\n",
    "            if curr_pattern not in visited_patterns:\n",
    "                if word in mapping:return False\n",
    "                else:mapping[word] = curr_pattern; visited_patterns.add(curr_pattern)\n",
    "            elif word not in mapping or mapping[word] != curr_pattern:return False\n",
    "        return  True\n",
    "                "
   ],
   "metadata": {
    "collapsed": true,
    "ExecuteTime": {
     "end_time": "2024-03-06T22:23:00.059513Z",
     "start_time": "2024-03-06T22:23:00.054585Z"
    }
   },
   "id": "initial_id",
   "execution_count": 35
  },
  {
   "cell_type": "code",
   "outputs": [
    {
     "data": {
      "text/plain": "True"
     },
     "execution_count": 36,
     "metadata": {},
     "output_type": "execute_result"
    }
   ],
   "source": [
    "Solution().wordPattern(\"abba\", \"dog cat cat dog\")"
   ],
   "metadata": {
    "collapsed": false,
    "ExecuteTime": {
     "end_time": "2024-03-06T22:23:01.704905Z",
     "start_time": "2024-03-06T22:23:01.700399Z"
    }
   },
   "id": "ac8e7989cba9ecea",
   "execution_count": 36
  }
 ],
 "metadata": {
  "kernelspec": {
   "display_name": "Python 3",
   "language": "python",
   "name": "python3"
  },
  "language_info": {
   "codemirror_mode": {
    "name": "ipython",
    "version": 2
   },
   "file_extension": ".py",
   "mimetype": "text/x-python",
   "name": "python",
   "nbconvert_exporter": "python",
   "pygments_lexer": "ipython2",
   "version": "2.7.6"
  }
 },
 "nbformat": 4,
 "nbformat_minor": 5
}
