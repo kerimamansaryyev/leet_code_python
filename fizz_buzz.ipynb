{
 "cells": [
  {
   "cell_type": "markdown",
   "source": [
    "# FizzBuzz\n",
    "## Intuition\n",
    "1. Create shallow result string per each iteration\n",
    "2. If it's divisible by 3 - add \"Fizz\"\n",
    "3. If it's divisible by 5 - add \"Buzz\"\n",
    "4. If nothing above, hence result is empty, convert number to `str`"
   ],
   "metadata": {
    "collapsed": false
   },
   "id": "186de4f1851bdb88"
  },
  {
   "cell_type": "code",
   "outputs": [],
   "source": [
    "from typing import List\n",
    "\n",
    "\n",
    "class Solution:\n",
    "    def fizzBuzz(self, n: int) -> List[str]:\n",
    "        def fizz_it(number):\n",
    "            result = \"\"\n",
    "            if number %3 == 0:\n",
    "                result += \"Fizz\"\n",
    "            if number%5 == 0:\n",
    "                result += \"Buzz\"\n",
    "            if result == \"\":\n",
    "                result += str(number)\n",
    "            return  result\n",
    "            \n",
    "        return [fizz_it(i) for i in range(1,n+1)]\n",
    "            "
   ],
   "metadata": {
    "collapsed": false,
    "ExecuteTime": {
     "end_time": "2024-03-01T21:44:20.546514Z",
     "start_time": "2024-03-01T21:44:20.541763Z"
    }
   },
   "id": "8f3822c9530fe156",
   "execution_count": 7
  },
  {
   "cell_type": "code",
   "outputs": [
    {
     "data": {
      "text/plain": "['1',\n '2',\n 'Fizz',\n '4',\n 'Buzz',\n 'Fizz',\n '7',\n '8',\n 'Fizz',\n 'Buzz',\n '11',\n 'Fizz',\n '13',\n '14',\n 'FizzBuzz']"
     },
     "execution_count": 8,
     "metadata": {},
     "output_type": "execute_result"
    }
   ],
   "source": [
    "Solution().fizzBuzz(15)"
   ],
   "metadata": {
    "collapsed": false,
    "ExecuteTime": {
     "end_time": "2024-03-01T21:44:21.422020Z",
     "start_time": "2024-03-01T21:44:21.415637Z"
    }
   },
   "id": "51e1f93275e7d987",
   "execution_count": 8
  },
  {
   "cell_type": "code",
   "outputs": [],
   "source": [],
   "metadata": {
    "collapsed": false
   },
   "id": "5cdf3755cf3276f2"
  }
 ],
 "metadata": {
  "kernelspec": {
   "display_name": "Python 3",
   "language": "python",
   "name": "python3"
  },
  "language_info": {
   "codemirror_mode": {
    "name": "ipython",
    "version": 2
   },
   "file_extension": ".py",
   "mimetype": "text/x-python",
   "name": "python",
   "nbconvert_exporter": "python",
   "pygments_lexer": "ipython2",
   "version": "2.7.6"
  }
 },
 "nbformat": 4,
 "nbformat_minor": 5
}
