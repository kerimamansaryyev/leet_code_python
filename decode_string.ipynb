{
 "cells": [
  {
   "cell_type": "code",
   "execution_count": 98,
   "id": "initial_id",
   "metadata": {
    "collapsed": true,
    "ExecuteTime": {
     "end_time": "2024-08-06T05:46:43.282225Z",
     "start_time": "2024-08-06T05:46:43.277526Z"
    }
   },
   "outputs": [],
   "source": [
    "class Solution:\n",
    "    def decodeString(self, s: str) -> str:\n",
    "        result = ''\n",
    "        i = 0\n",
    "        while i < len(s):\n",
    "            if s[i].isdigit():\n",
    "                \n",
    "                multiplier = s[i]\n",
    "                \n",
    "                while s[i+1].isdigit():\n",
    "                    i += 1\n",
    "                    multiplier += s[i] \n",
    "                \n",
    "                multiplier = int(multiplier)\n",
    "                \n",
    "                i += 2\n",
    "                start_index = i\n",
    "            \n",
    "                level = 0\n",
    "                \n",
    "                while s[i] != ']' or level > 0:\n",
    "                    if s[i] == '[': level += 1\n",
    "                    if s[i] == ']': level -= 1\n",
    "                    i += 1\n",
    "                    \n",
    "                result += multiplier * (self.decodeString(s[start_index:i]))\n",
    "            else:\n",
    "                result += s[i]\n",
    "\n",
    "            i += 1\n",
    "\n",
    "        return result\n"
   ]
  },
  {
   "cell_type": "code",
   "outputs": [
    {
     "data": {
      "text/plain": "'aaabcbcd'"
     },
     "execution_count": 99,
     "metadata": {},
     "output_type": "execute_result"
    }
   ],
   "source": [
    "Solution().decodeString(\"3[a]2[bc]d\")"
   ],
   "metadata": {
    "collapsed": false,
    "ExecuteTime": {
     "end_time": "2024-08-06T05:46:46.441479Z",
     "start_time": "2024-08-06T05:46:46.437686Z"
    }
   },
   "id": "54f393003c047a76",
   "execution_count": 99
  },
  {
   "cell_type": "code",
   "outputs": [
    {
     "data": {
      "text/plain": "'accaccacc'"
     },
     "execution_count": 96,
     "metadata": {},
     "output_type": "execute_result"
    }
   ],
   "source": [
    "Solution().decodeString(\"3[a2[c]]\")"
   ],
   "metadata": {
    "collapsed": false,
    "ExecuteTime": {
     "end_time": "2024-08-06T05:42:21.639925Z",
     "start_time": "2024-08-06T05:42:21.635802Z"
    }
   },
   "id": "e68b8bd807ae6874",
   "execution_count": 96
  },
  {
   "cell_type": "code",
   "outputs": [
    {
     "data": {
      "text/plain": "'leetcodeleetcodeleetcodeleetcodeleetcodeleetcodeleetcodeleetcodeleetcodeleetcodeleetcodeleetcodeleetcodeleetcodeleetcodeleetcodeleetcodeleetcodeleetcodeleetcodeleetcodeleetcodeleetcodeleetcodeleetcodeleetcodeleetcodeleetcodeleetcodeleetcodeleetcodeleetcodeleetcodeleetcodeleetcodeleetcodeleetcodeleetcodeleetcodeleetcodeleetcodeleetcodeleetcodeleetcodeleetcodeleetcodeleetcodeleetcodeleetcodeleetcodeleetcodeleetcodeleetcodeleetcodeleetcodeleetcodeleetcodeleetcodeleetcodeleetcodeleetcodeleetcodeleetcodeleetcodeleetcodeleetcodeleetcodeleetcodeleetcodeleetcodeleetcodeleetcodeleetcodeleetcodeleetcodeleetcodeleetcodeleetcodeleetcodeleetcodeleetcodeleetcodeleetcodeleetcodeleetcodeleetcodeleetcodeleetcodeleetcodeleetcodeleetcodeleetcodeleetcodeleetcodeleetcodeleetcodeleetcodeleetcodeleetcodeleetcode'"
     },
     "execution_count": 100,
     "metadata": {},
     "output_type": "execute_result"
    }
   ],
   "source": [
    "Solution().decodeString(\"100[leetcode]\")"
   ],
   "metadata": {
    "collapsed": false,
    "ExecuteTime": {
     "end_time": "2024-08-06T05:46:49.714873Z",
     "start_time": "2024-08-06T05:46:49.711116Z"
    }
   },
   "id": "802968b9432dfa6f",
   "execution_count": 100
  }
 ],
 "metadata": {
  "kernelspec": {
   "display_name": "Python 3",
   "language": "python",
   "name": "python3"
  },
  "language_info": {
   "codemirror_mode": {
    "name": "ipython",
    "version": 2
   },
   "file_extension": ".py",
   "mimetype": "text/x-python",
   "name": "python",
   "nbconvert_exporter": "python",
   "pygments_lexer": "ipython2",
   "version": "2.7.6"
  }
 },
 "nbformat": 4,
 "nbformat_minor": 5
}
