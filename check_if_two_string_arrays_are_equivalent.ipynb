{
 "cells": [
  {
   "cell_type": "markdown",
   "source": [
    "# Check if two string arrays are equivalent\n",
    "## Intuition\n",
    "1. Form complete strings per both of the lists\n",
    "2. Compare the results with ==."
   ],
   "metadata": {
    "collapsed": false
   },
   "id": "213ccc1a3d30a79e"
  },
  {
   "cell_type": "code",
   "execution_count": 3,
   "id": "initial_id",
   "metadata": {
    "collapsed": true,
    "ExecuteTime": {
     "end_time": "2024-05-14T21:22:30.870744Z",
     "start_time": "2024-05-14T21:22:30.866867Z"
    }
   },
   "outputs": [],
   "source": [
    "from typing import List\n",
    "\n",
    "\n",
    "class Solution:\n",
    "    def arrayStringsAreEqual(self, word1: List[str], word2: List[str]) -> bool:\n",
    "        word1 = ''.join(word1)\n",
    "        word2 = ''.join(word2)\n",
    "        return word1 == word2"
   ]
  },
  {
   "cell_type": "code",
   "outputs": [
    {
     "data": {
      "text/plain": "True"
     },
     "execution_count": 4,
     "metadata": {},
     "output_type": "execute_result"
    }
   ],
   "source": [
    "Solution().arrayStringsAreEqual([\"ab\", \"c\"], [\"a\", \"bc\"])"
   ],
   "metadata": {
    "collapsed": false,
    "ExecuteTime": {
     "end_time": "2024-05-14T21:22:32.815143Z",
     "start_time": "2024-05-14T21:22:32.808693Z"
    }
   },
   "id": "896555dbbaaf1ebc",
   "execution_count": 4
  }
 ],
 "metadata": {
  "kernelspec": {
   "display_name": "Python 3",
   "language": "python",
   "name": "python3"
  },
  "language_info": {
   "codemirror_mode": {
    "name": "ipython",
    "version": 2
   },
   "file_extension": ".py",
   "mimetype": "text/x-python",
   "name": "python",
   "nbconvert_exporter": "python",
   "pygments_lexer": "ipython2",
   "version": "2.7.6"
  }
 },
 "nbformat": 4,
 "nbformat_minor": 5
}
