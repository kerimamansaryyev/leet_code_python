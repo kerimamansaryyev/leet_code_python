{
 "cells": [
  {
   "cell_type": "markdown",
   "source": [
    "# Alternating Digit Sum\n",
    "## Intuition\n",
    "1. Turn the number into a list of string digits.\n",
    "2. Define an array `signs` containing 2 values 1 and -1. This is a sequence of signs that we will need per `digit_index % len(signs) (which is 2)`. With this, we need to multiply the answer by `-1` for every even digit.\n",
    "3. Define the answer as 0.\n",
    "4. Start adding the digits (converting them to `int` on the fly) onto the answer along with multiplying it by corresponding sign.  "
   ],
   "metadata": {
    "collapsed": false
   },
   "id": "ac2d1a93a065c0ae"
  },
  {
   "cell_type": "code",
   "execution_count": 23,
   "id": "initial_id",
   "metadata": {
    "collapsed": true,
    "ExecuteTime": {
     "end_time": "2024-03-14T20:58:39.696957Z",
     "start_time": "2024-03-14T20:58:39.693108Z"
    }
   },
   "outputs": [],
   "source": [
    "class Solution:\n",
    "    def alternateDigitSum(self, n: int) -> int:\n",
    "        signs = [1, -1]\n",
    "        n = list(str(n))\n",
    "        answer = 0\n",
    "        index = 0\n",
    "        while n:\n",
    "            answer += int(n.pop(0)) * signs[index % 2]\n",
    "            index += 1\n",
    "        \n",
    "        return answer"
   ]
  },
  {
   "cell_type": "code",
   "outputs": [
    {
     "data": {
      "text/plain": "4"
     },
     "execution_count": 24,
     "metadata": {},
     "output_type": "execute_result"
    }
   ],
   "source": [
    "Solution().alternateDigitSum(521)"
   ],
   "metadata": {
    "collapsed": false,
    "ExecuteTime": {
     "end_time": "2024-03-14T20:58:41.437196Z",
     "start_time": "2024-03-14T20:58:41.432066Z"
    }
   },
   "id": "403c34000364ba4b",
   "execution_count": 24
  },
  {
   "cell_type": "code",
   "outputs": [
    {
     "data": {
      "text/plain": "1"
     },
     "execution_count": 25,
     "metadata": {},
     "output_type": "execute_result"
    }
   ],
   "source": [
    "Solution().alternateDigitSum(10)"
   ],
   "metadata": {
    "collapsed": false,
    "ExecuteTime": {
     "end_time": "2024-03-14T20:58:43.438532Z",
     "start_time": "2024-03-14T20:58:43.434212Z"
    }
   },
   "id": "f8651e212a87e7a6",
   "execution_count": 25
  }
 ],
 "metadata": {
  "kernelspec": {
   "display_name": "Python 3",
   "language": "python",
   "name": "python3"
  },
  "language_info": {
   "codemirror_mode": {
    "name": "ipython",
    "version": 2
   },
   "file_extension": ".py",
   "mimetype": "text/x-python",
   "name": "python",
   "nbconvert_exporter": "python",
   "pygments_lexer": "ipython2",
   "version": "2.7.6"
  }
 },
 "nbformat": 4,
 "nbformat_minor": 5
}
