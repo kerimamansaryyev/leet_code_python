{
 "cells": [
  {
   "cell_type": "markdown",
   "source": [
    "# Intuition\n",
    "Keep traversing and checking if the node has already been visited referring to a set, into what the marked nodes will be added. "
   ],
   "metadata": {
    "collapsed": false
   },
   "id": "724d0e91fcdb519"
  },
  {
   "cell_type": "markdown",
   "source": [
    "Defining the list node"
   ],
   "metadata": {
    "collapsed": false
   },
   "id": "d237d881ef045d7b"
  },
  {
   "cell_type": "code",
   "execution_count": 1,
   "id": "initial_id",
   "metadata": {
    "collapsed": true,
    "ExecuteTime": {
     "end_time": "2024-03-25T19:36:36.158751Z",
     "start_time": "2024-03-25T19:36:36.155213Z"
    }
   },
   "outputs": [],
   "source": [
    "class ListNode:\n",
    "    def __init__(self, x):\n",
    "        self.val = x\n",
    "        self.next = None"
   ]
  },
  {
   "cell_type": "markdown",
   "source": [
    "Defining the solution"
   ],
   "metadata": {
    "collapsed": false
   },
   "id": "d252a4d7affcd7b9"
  },
  {
   "cell_type": "code",
   "outputs": [],
   "source": [
    "from typing import Optional\n",
    "\n",
    "\n",
    "class Solution:\n",
    "    def hasCycle(self, head: Optional[ListNode]) -> bool:\n",
    "        visited = set()\n",
    "        while head and head.next:\n",
    "            if head in visited: return True\n",
    "            visited.add(head)\n",
    "            head = head.next\n",
    "            \n",
    "        return False"
   ],
   "metadata": {
    "collapsed": false
   },
   "id": "1a33f969374a69f2"
  }
 ],
 "metadata": {
  "kernelspec": {
   "display_name": "Python 3",
   "language": "python",
   "name": "python3"
  },
  "language_info": {
   "codemirror_mode": {
    "name": "ipython",
    "version": 2
   },
   "file_extension": ".py",
   "mimetype": "text/x-python",
   "name": "python",
   "nbconvert_exporter": "python",
   "pygments_lexer": "ipython2",
   "version": "2.7.6"
  }
 },
 "nbformat": 4,
 "nbformat_minor": 5
}
