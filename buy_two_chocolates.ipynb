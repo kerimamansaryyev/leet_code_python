{
 "cells": [
  {
   "cell_type": "code",
   "execution_count": 11,
   "id": "initial_id",
   "metadata": {
    "collapsed": true,
    "ExecuteTime": {
     "end_time": "2024-08-06T22:14:21.921124Z",
     "start_time": "2024-08-06T22:14:21.917572Z"
    }
   },
   "outputs": [],
   "source": [
    "from collections import defaultdict\n",
    "from typing import List\n",
    "\n",
    "\n",
    "class Solution:\n",
    "    def buyChoco(self, prices: List[int], money: int) -> int:\n",
    "        prices = sorted(prices)\n",
    "        bought = 0\n",
    "        original_money = money\n",
    "        while bought < 2:\n",
    "            money -= prices.pop(0)\n",
    "            if money >= 0:\n",
    "                bought += 1\n",
    "            else:\n",
    "                return original_money\n",
    "            \n",
    "        return money"
   ]
  },
  {
   "cell_type": "code",
   "outputs": [
    {
     "data": {
      "text/plain": "0"
     },
     "execution_count": 12,
     "metadata": {},
     "output_type": "execute_result"
    }
   ],
   "source": [
    "Solution().buyChoco([1,2,2], 3)"
   ],
   "metadata": {
    "collapsed": false,
    "ExecuteTime": {
     "end_time": "2024-08-06T22:14:25.984809Z",
     "start_time": "2024-08-06T22:14:25.981126Z"
    }
   },
   "id": "7d1cba086c8f8881",
   "execution_count": 12
  },
  {
   "cell_type": "code",
   "outputs": [
    {
     "data": {
      "text/plain": "3"
     },
     "execution_count": 13,
     "metadata": {},
     "output_type": "execute_result"
    }
   ],
   "source": [
    "Solution().buyChoco([3,2,3], 3)"
   ],
   "metadata": {
    "collapsed": false,
    "ExecuteTime": {
     "end_time": "2024-08-06T22:14:28.393156Z",
     "start_time": "2024-08-06T22:14:28.389592Z"
    }
   },
   "id": "451984ef5c4039b3",
   "execution_count": 13
  }
 ],
 "metadata": {
  "kernelspec": {
   "display_name": "Python 3",
   "language": "python",
   "name": "python3"
  },
  "language_info": {
   "codemirror_mode": {
    "name": "ipython",
    "version": 2
   },
   "file_extension": ".py",
   "mimetype": "text/x-python",
   "name": "python",
   "nbconvert_exporter": "python",
   "pygments_lexer": "ipython2",
   "version": "2.7.6"
  }
 },
 "nbformat": 4,
 "nbformat_minor": 5
}
