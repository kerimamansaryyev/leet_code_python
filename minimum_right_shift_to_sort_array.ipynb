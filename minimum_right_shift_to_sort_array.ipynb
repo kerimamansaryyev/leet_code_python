{
 "cells": [
  {
   "cell_type": "markdown",
   "source": [
    "# Minimum right shift to sort array\n",
    "# Intuition\n",
    "1. Find the joint index where `nums[i-1] > nums[i]` (previous element is larger than next).\n",
    "2. If the joint index was not found - return 0 since this list may not be sorted further.\n",
    "3. Traverse a whole list size in a possible cycle starting with the joint index checking the same condition as in the point 1. Apply index as `i%len(num)`\n",
    "4. If the previous element is larger than the next one - return -1\n",
    "5. If not, return difference between `len(num)` and the joint index."
   ],
   "metadata": {
    "collapsed": false
   },
   "id": "a6bdbd9d498ec503"
  },
  {
   "cell_type": "code",
   "outputs": [],
   "source": [
    "from typing import List\n",
    "\n",
    "\n",
    "class Solution:\n",
    "    def minimumRightShifts(self, nums: List[int]) -> int:\n",
    "        n = len(nums)\n",
    "        if n < 2:\n",
    "            return 0\n",
    "        prev = nums[0]\n",
    "        joint_index = -1\n",
    "        for i in range(1, n):\n",
    "            if nums[i] < prev:\n",
    "                joint_index = i\n",
    "                break\n",
    "            prev = nums[i]\n",
    "\n",
    "        if joint_index == -1:\n",
    "            return 0\n",
    "\n",
    "        prev = nums[joint_index]\n",
    "\n",
    "        for i in range(joint_index + 1, joint_index + n):\n",
    "            if nums[i % n] < prev:\n",
    "                return -1\n",
    "            prev = nums[i % n]\n",
    "\n",
    "        return n - joint_index"
   ],
   "metadata": {
    "collapsed": false,
    "ExecuteTime": {
     "end_time": "2024-03-02T16:42:06.416803Z",
     "start_time": "2024-03-02T16:42:06.412336Z"
    }
   },
   "id": "160df5543d656878",
   "execution_count": 27
  },
  {
   "cell_type": "code",
   "outputs": [
    {
     "data": {
      "text/plain": "2"
     },
     "execution_count": 28,
     "metadata": {},
     "output_type": "execute_result"
    }
   ],
   "source": [
    "Solution().minimumRightShifts([3, 4, 5, 1, 2])"
   ],
   "metadata": {
    "collapsed": false,
    "ExecuteTime": {
     "end_time": "2024-03-02T16:42:09.181221Z",
     "start_time": "2024-03-02T16:42:09.177734Z"
    }
   },
   "id": "4438119544cffac2",
   "execution_count": 28
  },
  {
   "cell_type": "code",
   "outputs": [
    {
     "data": {
      "text/plain": "-1"
     },
     "execution_count": 29,
     "metadata": {},
     "output_type": "execute_result"
    }
   ],
   "source": [
    "Solution().minimumRightShifts([2, 1, 4])"
   ],
   "metadata": {
    "collapsed": false,
    "ExecuteTime": {
     "end_time": "2024-03-02T16:42:13.140027Z",
     "start_time": "2024-03-02T16:42:13.136064Z"
    }
   },
   "id": "8fa494f65fb5ac58",
   "execution_count": 29
  }
 ],
 "metadata": {
  "kernelspec": {
   "display_name": "Python 3",
   "language": "python",
   "name": "python3"
  },
  "language_info": {
   "codemirror_mode": {
    "name": "ipython",
    "version": 2
   },
   "file_extension": ".py",
   "mimetype": "text/x-python",
   "name": "python",
   "nbconvert_exporter": "python",
   "pygments_lexer": "ipython2",
   "version": "2.7.6"
  }
 },
 "nbformat": 4,
 "nbformat_minor": 5
}
