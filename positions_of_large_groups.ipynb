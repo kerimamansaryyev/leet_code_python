{
 "cells": [
  {
   "cell_type": "markdown",
   "source": [
    "# Positions of large groups\n",
    "\n",
    "## Intuition\n",
    "1. Add `@` to the end of `s` so we can interrupt possible sequence in the end to cover the edge case.\n",
    "2. Create the answer list, a variable to mark the current character group, a variable to mark start index of the current group.\n",
    "3. Iterate through the characters:\n",
    "   1. If the current group character is not initialized - assign `s[i]` to it.\n",
    "   2. Else if `s[i]` is not equal to the current group, subtract `i` from `start_index` to verify if the group has enough characters in sequence.\n",
    "   3. If so, append `[start_index, i-1]` to the answer list.\n",
    "   4. Assign `start_index` to `i` and the current group to `s[i]`.\n",
    "4. Return the answer.  "
   ],
   "metadata": {
    "collapsed": false
   },
   "id": "6f8168ed9cfc12c1"
  },
  {
   "cell_type": "code",
   "outputs": [],
   "source": [
    "from typing import List\n",
    "\n",
    "\n",
    "class Solution:\n",
    "    def largeGroupPositions(self, s: str) -> List[List[int]]:\n",
    "        s += '@'\n",
    "        answer = []\n",
    "        curr_group = None\n",
    "        start_index = 0\n",
    "\n",
    "        for i in range(len(s)):\n",
    "            if not curr_group: curr_group = s[i]; continue\n",
    "\n",
    "            if curr_group != s[i]:\n",
    "                if i - start_index >= 3:\n",
    "                    answer.append([start_index, i - 1])\n",
    "                start_index = i\n",
    "                curr_group = s[i]\n",
    "\n",
    "        return answer"
   ],
   "metadata": {
    "collapsed": false,
    "ExecuteTime": {
     "end_time": "2024-08-04T23:49:10.291166Z",
     "start_time": "2024-08-04T23:49:10.287039Z"
    }
   },
   "id": "da880334aa63efe7",
   "execution_count": 9
  },
  {
   "cell_type": "code",
   "outputs": [
    {
     "data": {
      "text/plain": "[[3, 6]]"
     },
     "execution_count": 10,
     "metadata": {},
     "output_type": "execute_result"
    }
   ],
   "source": [
    "Solution().largeGroupPositions(\"abbxxxxzzy\")"
   ],
   "metadata": {
    "collapsed": false,
    "ExecuteTime": {
     "end_time": "2024-08-04T23:49:12.840247Z",
     "start_time": "2024-08-04T23:49:12.836617Z"
    }
   },
   "id": "79b9b5bd77fb6a78",
   "execution_count": 10
  },
  {
   "cell_type": "code",
   "outputs": [
    {
     "data": {
      "text/plain": "[]"
     },
     "execution_count": 11,
     "metadata": {},
     "output_type": "execute_result"
    }
   ],
   "source": [
    "Solution().largeGroupPositions(\"\")"
   ],
   "metadata": {
    "collapsed": false,
    "ExecuteTime": {
     "end_time": "2024-08-04T23:49:14.695766Z",
     "start_time": "2024-08-04T23:49:14.692320Z"
    }
   },
   "id": "745f0261b15de153",
   "execution_count": 11
  },
  {
   "cell_type": "code",
   "outputs": [
    {
     "data": {
      "text/plain": "[]"
     },
     "execution_count": 12,
     "metadata": {},
     "output_type": "execute_result"
    }
   ],
   "source": [
    "Solution().largeGroupPositions(\"abc\")"
   ],
   "metadata": {
    "collapsed": false,
    "ExecuteTime": {
     "end_time": "2024-08-04T23:49:16.653505Z",
     "start_time": "2024-08-04T23:49:16.649370Z"
    }
   },
   "id": "e5f014ee6611996a",
   "execution_count": 12
  },
  {
   "cell_type": "code",
   "outputs": [
    {
     "data": {
      "text/plain": "[[3, 5], [6, 9], [12, 14]]"
     },
     "execution_count": 13,
     "metadata": {},
     "output_type": "execute_result"
    }
   ],
   "source": [
    "Solution().largeGroupPositions(\"abcdddeeeeaabbbcd\")"
   ],
   "metadata": {
    "collapsed": false,
    "ExecuteTime": {
     "end_time": "2024-08-04T23:49:18.690680Z",
     "start_time": "2024-08-04T23:49:18.686968Z"
    }
   },
   "id": "e844a9817e308876",
   "execution_count": 13
  },
  {
   "cell_type": "code",
   "outputs": [
    {
     "data": {
      "text/plain": "[[3, 6], [7, 9]]"
     },
     "execution_count": 14,
     "metadata": {},
     "output_type": "execute_result"
    }
   ],
   "source": [
    "Solution().largeGroupPositions(\"abbxxxxzzz\")"
   ],
   "metadata": {
    "collapsed": false,
    "ExecuteTime": {
     "end_time": "2024-08-04T23:49:21.671849Z",
     "start_time": "2024-08-04T23:49:21.667616Z"
    }
   },
   "id": "d0d9af883c68e69d",
   "execution_count": 14
  }
 ],
 "metadata": {
  "kernelspec": {
   "display_name": "Python 3",
   "language": "python",
   "name": "python3"
  },
  "language_info": {
   "codemirror_mode": {
    "name": "ipython",
    "version": 2
   },
   "file_extension": ".py",
   "mimetype": "text/x-python",
   "name": "python",
   "nbconvert_exporter": "python",
   "pygments_lexer": "ipython2",
   "version": "2.7.6"
  }
 },
 "nbformat": 4,
 "nbformat_minor": 5
}
