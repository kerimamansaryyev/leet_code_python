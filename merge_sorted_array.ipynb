{
 "cells": [
  {
   "cell_type": "markdown",
   "source": [
    "# Merge Sorted Array\n",
    "## Intuition\n",
    "1. If n is 0, then no need to merge anything, get rid of 0s in the end of nums1.\n",
    "2. If m is 0, then we can fully merge nums2 into nums1.\n",
    "3. Change all 0s in the end of nums1 to the lower bound negative integer. Because those cells are supposed to be the cells to pop when a new number is added.\n",
    "4. If element at `nums[m_index]` is equal to the `l_value_bound` and `nums2` still has some values - replace the value with the first popped integer from `nums2`.\n",
    "5. If the first element of `nums2` is less than the `nums1[m_index]`, then pop the first index of the `nums2` and insert it at `m_index`, and remove the placeholder cell at `m` and increase `m` by 1. It is needed to remove empty cells while we add new values, so at the end we will not get something like `[1,2,3,4,l_bound,l_bound,l_bound]`.\n",
    "6. In any other case - just move to next index of `nums1`, which means - increasing `m_index`."
   ],
   "metadata": {
    "collapsed": false
   },
   "id": "4b4a4c77cfb484e7"
  },
  {
   "cell_type": "code",
   "outputs": [],
   "source": [
    "from typing import List\n",
    "\n",
    "\n",
    "class Solution:\n",
    "    def merge(self, nums1: List[int], m: int, nums2: List[int], n: int) -> None:\n",
    "        if n == 0: nums1[:] = nums1[0:m]; return\n",
    "        if m == 0: nums1[:] = nums2[:]; return\n",
    "\n",
    "        m_index = 0\n",
    "        overall_len = n + m\n",
    "        l_value_bound = -10**9-1\n",
    "        \n",
    "        for i in range(m,len(nums1)):\n",
    "            nums1[i] = l_value_bound\n",
    "\n",
    "        while m_index < overall_len:\n",
    "            if nums1[m_index] == l_value_bound and nums2: nums1[m_index] = nums2.pop(0);continue\n",
    "            if not nums2 or nums1[m_index] < nums2[0]: m_index += 1;continue\n",
    "            if nums2[0] < nums1[m_index]:\n",
    "                nums1.insert(m_index, nums2.pop(0))\n",
    "                nums1.pop(m + 1)\n",
    "                m += 1\n",
    "                continue\n",
    "            m_index += 1"
   ],
   "metadata": {
    "collapsed": true,
    "ExecuteTime": {
     "end_time": "2024-03-13T20:46:46.644937Z",
     "start_time": "2024-03-13T20:46:46.640696Z"
    }
   },
   "id": "initial_id",
   "execution_count": 2
  },
  {
   "cell_type": "code",
   "outputs": [
    {
     "name": "stdout",
     "output_type": "stream",
     "text": [
      "[1, 2, 2, 3, 5, 6]\n"
     ]
    }
   ],
   "source": [
    "nums1 = [1, 2, 3, 0, 0, 0]\n",
    "m = 3\n",
    "nums2 = [2, 5, 6]\n",
    "n = 3\n",
    "Solution().merge(nums1, m, nums2, n)\n",
    "print(nums1)"
   ],
   "metadata": {
    "collapsed": false,
    "ExecuteTime": {
     "end_time": "2024-03-13T20:46:48.635637Z",
     "start_time": "2024-03-13T20:46:48.632065Z"
    }
   },
   "id": "4a29f900322edce7",
   "execution_count": 3
  },
  {
   "cell_type": "code",
   "outputs": [
    {
     "name": "stdout",
     "output_type": "stream",
     "text": [
      "[1, 2, 3, 4, 5, 6]\n"
     ]
    }
   ],
   "source": [
    "nums1 = [4, 5, 6, 0, 0, 0]\n",
    "m = 3\n",
    "nums2 = [1,2,3]\n",
    "n = 3\n",
    "Solution().merge(nums1, m, nums2, n)\n",
    "print(nums1)"
   ],
   "metadata": {
    "collapsed": false,
    "ExecuteTime": {
     "end_time": "2024-03-13T20:46:50.035255Z",
     "start_time": "2024-03-13T20:46:50.032586Z"
    }
   },
   "id": "eb9738d2c7aff769",
   "execution_count": 4
  }
 ],
 "metadata": {
  "kernelspec": {
   "display_name": "Python 3",
   "language": "python",
   "name": "python3"
  },
  "language_info": {
   "codemirror_mode": {
    "name": "ipython",
    "version": 2
   },
   "file_extension": ".py",
   "mimetype": "text/x-python",
   "name": "python",
   "nbconvert_exporter": "python",
   "pygments_lexer": "ipython2",
   "version": "2.7.6"
  }
 },
 "nbformat": 4,
 "nbformat_minor": 5
}
