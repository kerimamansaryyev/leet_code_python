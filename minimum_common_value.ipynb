{
 "cells": [
  {
   "cell_type": "markdown",
   "source": [
    "# Minimum common value\n",
    "## Intuition\n",
    "1. Make a set out of either arrays. (choose the one with minimum length).\n",
    "2. Traverse through another one and see if popped value is present in the set."
   ],
   "metadata": {
    "collapsed": false
   },
   "id": "409bbeec2efe378a"
  },
  {
   "cell_type": "code",
   "execution_count": null,
   "id": "initial_id",
   "metadata": {
    "collapsed": true
   },
   "outputs": [],
   "source": [
    "from typing import List\n",
    "\n",
    "class Solution:\n",
    "    def getCommon(self, nums1: List[int], nums2: List[int]) -> int:\n",
    "        set_candidate = {}\n",
    "        list_candidate = []\n",
    "        \n",
    "        if len(nums1) < len(nums2):\n",
    "            set_candidate = set(nums1)\n",
    "            list_candidate = nums2\n",
    "        else:\n",
    "            set_candidate = set(nums2)\n",
    "            list_candidate = nums1\n",
    "        \n",
    "        while list_candidate:\n",
    "            popped = list_candidate.pop(0)\n",
    "            if popped in set_candidate: return popped\n",
    "        \n",
    "        return -1"
   ]
  }
 ],
 "metadata": {
  "kernelspec": {
   "display_name": "Python 3",
   "language": "python",
   "name": "python3"
  },
  "language_info": {
   "codemirror_mode": {
    "name": "ipython",
    "version": 2
   },
   "file_extension": ".py",
   "mimetype": "text/x-python",
   "name": "python",
   "nbconvert_exporter": "python",
   "pygments_lexer": "ipython2",
   "version": "2.7.6"
  }
 },
 "nbformat": 4,
 "nbformat_minor": 5
}
