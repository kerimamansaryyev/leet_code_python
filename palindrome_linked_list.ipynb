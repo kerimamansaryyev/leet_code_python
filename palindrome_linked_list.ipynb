{
 "cells": [
  {
   "cell_type": "markdown",
   "source": [
    "# Palindrome Linked List\n",
    "## Intuition\n",
    "1. Define 2 cursors. `fast` that jumps by 2 elements so the second `slow` element will reach the half + 1 (initial) of te list.\n",
    "    ```\n",
    "    1 -> 2 -> 3 -> 4 -> 5\n",
    "    ``` \n",
    "    Before iteration:\n",
    "    slow and fast are on `1`\n",
    "    reverse is `None`\n",
    "    1. Loop finds out that `fast` is not `None` and it has neighbor (2). \n",
    "    2. Slow moves to 2, fast moves to 3, reverse moves to previous slow (1).\n",
    "    3. Loop finds out that `fast` is not `None` and it has neighbor (4)\n",
    "    4. Slow moves to 3, fast moves to 5, reverse moves to previous slow (2) forming a reverse chain `2->1`.\n",
    "    5. Loop finds out that `fast` is not `None` but it does not have neighbor.\n",
    "    \n",
    "2. By this time, we found out that `slow` is on `3` and `fast` is not `None` since the list has odd number of elements. So we should not consider the middle element and traverse 1 step forward to place `slow` on the other half.\n",
    "    ```\n",
    "    if fast:\n",
    "        slow = slow.next\n",
    "    ```\n",
    "3. By traversing upon `slow` and `reverse`, we now go by 2 pointers towards opposite directions from the middle of the list."
   ],
   "metadata": {
    "collapsed": false
   },
   "id": "237dfcf428b0e4bd"
  },
  {
   "cell_type": "markdown",
   "source": [
    "Definition of a list node"
   ],
   "metadata": {
    "collapsed": false
   },
   "id": "f4f5109e4668a2a8"
  },
  {
   "cell_type": "code",
   "outputs": [],
   "source": [
    "class ListNode:\n",
    "    def __init__(self, val=0, next=None):\n",
    "        self.val = val\n",
    "        self.next = next"
   ],
   "metadata": {
    "collapsed": false,
    "ExecuteTime": {
     "end_time": "2024-03-04T18:00:12.731680Z",
     "start_time": "2024-03-04T18:00:12.729553Z"
    }
   },
   "id": "48be18be81f74e03",
   "execution_count": 84
  },
  {
   "cell_type": "markdown",
   "source": [
    "Implementation"
   ],
   "metadata": {
    "collapsed": false
   },
   "id": "b6057d8bf729e3ee"
  },
  {
   "cell_type": "code",
   "outputs": [],
   "source": [
    "from typing import Optional\n",
    "\n",
    "\n",
    "class Solution:\n",
    "    def isPalindrome(self, head: Optional[ListNode]) -> bool:\n",
    "        fast = slow = head\n",
    "        reverse = None\n",
    "        \n",
    "        while fast and fast.next:\n",
    "            fast = fast.next.next\n",
    "            reverse, reverse.next, slow = slow, reverse, slow.next\n",
    "        \n",
    "        if fast:\n",
    "            slow = slow.next\n",
    "            \n",
    "        while reverse and slow:\n",
    "            if reverse.val != slow.val:\n",
    "                return False\n",
    "            reverse = reverse.next\n",
    "            slow = slow.next\n",
    "        \n",
    "        return  True"
   ],
   "metadata": {
    "collapsed": false,
    "ExecuteTime": {
     "end_time": "2024-03-04T18:00:12.735833Z",
     "start_time": "2024-03-04T18:00:12.733026Z"
    }
   },
   "id": "9cdc6668bf4ed3d3",
   "execution_count": 85
  },
  {
   "cell_type": "markdown",
   "source": [
    "## Check by even number of elements "
   ],
   "metadata": {
    "collapsed": false
   },
   "id": "60417f43d4de740e"
  },
  {
   "cell_type": "code",
   "outputs": [
    {
     "data": {
      "text/plain": "True"
     },
     "execution_count": 86,
     "metadata": {},
     "output_type": "execute_result"
    }
   ],
   "source": [
    "Solution().isPalindrome(ListNode(1, ListNode(2, ListNode(2, ListNode(1)))))"
   ],
   "metadata": {
    "collapsed": false,
    "ExecuteTime": {
     "end_time": "2024-03-04T18:00:12.739246Z",
     "start_time": "2024-03-04T18:00:12.736850Z"
    }
   },
   "id": "d295c278afe2a2be",
   "execution_count": 86
  },
  {
   "cell_type": "markdown",
   "source": [
    "## Check by even odd of elements "
   ],
   "metadata": {
    "collapsed": false
   },
   "id": "829e529ce3b83282"
  },
  {
   "cell_type": "code",
   "outputs": [
    {
     "data": {
      "text/plain": "True"
     },
     "execution_count": 87,
     "metadata": {},
     "output_type": "execute_result"
    }
   ],
   "source": [
    "Solution().isPalindrome(ListNode(1, ListNode(2, ListNode(3, ListNode(2, ListNode(1))))))"
   ],
   "metadata": {
    "collapsed": false,
    "ExecuteTime": {
     "end_time": "2024-03-04T18:00:12.743681Z",
     "start_time": "2024-03-04T18:00:12.740994Z"
    }
   },
   "id": "86617eff0f3211b7",
   "execution_count": 87
  }
 ],
 "metadata": {
  "kernelspec": {
   "display_name": "Python 3",
   "language": "python",
   "name": "python3"
  },
  "language_info": {
   "codemirror_mode": {
    "name": "ipython",
    "version": 2
   },
   "file_extension": ".py",
   "mimetype": "text/x-python",
   "name": "python",
   "nbconvert_exporter": "python",
   "pygments_lexer": "ipython2",
   "version": "2.7.6"
  }
 },
 "nbformat": 4,
 "nbformat_minor": 5
}
