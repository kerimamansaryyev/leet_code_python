{
 "cells": [
  {
   "cell_type": "markdown",
   "source": [
    "# Valid Parentheses\n",
    "## Intuition\n",
    "1. Firstly, we must return `True` when string is empty and `False` if the first symbol is closing immediately.\n",
    "2. Add the first opening symbol onto a stack.\n",
    "3. Traverse through the symbols of `s` with following conditions:\n",
    "    - if the current character is opening - just add it to the stack. We need this to track depth level of opening brackets.\n",
    "    - if the current character is closing AND if it does not match with the last (deepest) opening bracket in the stack - then return `False` immediately."
   ],
   "metadata": {
    "collapsed": false
   },
   "id": "3e31a2905d4ab2f1"
  },
  {
   "cell_type": "markdown",
   "source": [
    "Let's define a function to identify whether the parenthesis is opening or not:"
   ],
   "metadata": {
    "collapsed": false
   },
   "id": "3119373e7ab308d0"
  },
  {
   "cell_type": "code",
   "outputs": [],
   "source": [
    "def isOpening(c: chr) -> bool:\n",
    "    return c == '(' or c == '[' or c == '{'"
   ],
   "metadata": {
    "collapsed": false,
    "ExecuteTime": {
     "end_time": "2024-03-07T16:24:10.932687Z",
     "start_time": "2024-03-07T16:24:10.929957Z"
    }
   },
   "id": "809d943b68c44ccf",
   "execution_count": 30
  },
  {
   "cell_type": "markdown",
   "source": [
    "Let's define matching pairs:"
   ],
   "metadata": {
    "collapsed": false
   },
   "id": "6035a78685badb61"
  },
  {
   "cell_type": "code",
   "outputs": [],
   "source": [
    "def isMatching(c1: chr, c2) -> bool:\n",
    "    if c1 == '(': return c2 == ')'\n",
    "    if c1 == '[': return c2 == ']'\n",
    "    if c1 == '{': return c2 == '}'"
   ],
   "metadata": {
    "collapsed": false,
    "ExecuteTime": {
     "end_time": "2024-03-07T16:24:10.939525Z",
     "start_time": "2024-03-07T16:24:10.937066Z"
    }
   },
   "id": "7cbb96d4441aee9a",
   "execution_count": 31
  },
  {
   "cell_type": "code",
   "outputs": [],
   "source": [
    "class Solution:\n",
    "    def isValid(self, s: str) -> bool:\n",
    "        if not s or not isOpening(s[0]): return True if not s else False\n",
    "        stack = [s[0]]\n",
    "        \n",
    "        for char in s[1:]:\n",
    "            if isOpening(char):\n",
    "                stack.append(char)\n",
    "            elif not stack or not isMatching(stack.pop(), char):\n",
    "                return False\n",
    "\n",
    "        return False if stack else True"
   ],
   "metadata": {
    "collapsed": false,
    "ExecuteTime": {
     "end_time": "2024-03-07T16:23:45.352601Z",
     "start_time": "2024-03-07T16:23:45.348769Z"
    }
   },
   "id": "3c0fb0606402504a",
   "execution_count": 28
  },
  {
   "cell_type": "code",
   "outputs": [
    {
     "name": "stdout",
     "output_type": "stream",
     "text": [
      "True\n",
      "True\n"
     ]
    },
    {
     "data": {
      "text/plain": "True"
     },
     "execution_count": 34,
     "metadata": {},
     "output_type": "execute_result"
    }
   ],
   "source": [
    "Solution().isValid('()')"
   ],
   "metadata": {
    "collapsed": false,
    "ExecuteTime": {
     "end_time": "2024-03-07T16:24:23.408608Z",
     "start_time": "2024-03-07T16:24:23.404195Z"
    }
   },
   "id": "9c12e92e17944428",
   "execution_count": 34
  }
 ],
 "metadata": {
  "kernelspec": {
   "display_name": "Python 3",
   "language": "python",
   "name": "python3"
  },
  "language_info": {
   "codemirror_mode": {
    "name": "ipython",
    "version": 2
   },
   "file_extension": ".py",
   "mimetype": "text/x-python",
   "name": "python",
   "nbconvert_exporter": "python",
   "pygments_lexer": "ipython2",
   "version": "2.7.6"
  }
 },
 "nbformat": 4,
 "nbformat_minor": 5
}
