{
 "cells": [
  {
   "cell_type": "markdown",
   "source": [
    "# Candy\n",
    "## Intuition:\n",
    "1. Since all the kids need at least1 candy so create a list of `candies` filled with 1s.\n",
    "2. Go from left to right checking if the previous neighbor's rating is small. If so - take its candies summed by 1.\n",
    "3. Go from right to left checking if the previous neighbor's rating is small. If so - select maximum among itself and neighbor's candies summed by 1 because the current kid's candies may already be far more than the previous neighbor's candies."
   ],
   "metadata": {
    "collapsed": false
   },
   "id": "bc932c165b796f80"
  },
  {
   "cell_type": "code",
   "outputs": [],
   "source": [
    "from typing import List\n",
    "\n",
    "\n",
    "class Solution:\n",
    "    def candy(self, ratings: List[int]) -> int:\n",
    "        length = len(ratings)\n",
    "\n",
    "        if length < 2:\n",
    "            return length\n",
    "\n",
    "        candies = [1 for _ in range(length)]\n",
    "\n",
    "        for i in range(1, length):\n",
    "            if ratings[i] > ratings[i - 1]:\n",
    "                candies[i] = candies[i - 1] + 1\n",
    "        for i in range(length - 2, -1, -1):\n",
    "            if ratings[i] > ratings[i + 1]:\n",
    "                candies[i] = max(candies[i], candies[i + 1] + 1)\n",
    "                \n",
    "        return sum(candies)\n",
    "\n"
   ],
   "metadata": {
    "collapsed": true,
    "ExecuteTime": {
     "end_time": "2024-03-04T23:10:21.657126Z",
     "start_time": "2024-03-04T23:10:21.651894Z"
    }
   },
   "id": "initial_id",
   "execution_count": 48
  },
  {
   "cell_type": "code",
   "outputs": [
    {
     "data": {
      "text/plain": "7"
     },
     "execution_count": 49,
     "metadata": {},
     "output_type": "execute_result"
    }
   ],
   "source": [
    "Solution().candy([1, 3, 2, 2, 1])"
   ],
   "metadata": {
    "collapsed": false,
    "ExecuteTime": {
     "end_time": "2024-03-04T23:10:24.030212Z",
     "start_time": "2024-03-04T23:10:24.025709Z"
    }
   },
   "id": "e954a3448be9cf5f",
   "execution_count": 49
  }
 ],
 "metadata": {
  "kernelspec": {
   "display_name": "Python 3",
   "language": "python",
   "name": "python3"
  },
  "language_info": {
   "codemirror_mode": {
    "name": "ipython",
    "version": 2
   },
   "file_extension": ".py",
   "mimetype": "text/x-python",
   "name": "python",
   "nbconvert_exporter": "python",
   "pygments_lexer": "ipython2",
   "version": "2.7.6"
  }
 },
 "nbformat": 4,
 "nbformat_minor": 5
}
