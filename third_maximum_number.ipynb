{
 "cells": [
  {
   "cell_type": "markdown",
   "source": [
    "# Third Maximum Number\n",
    "## Intuition\n",
    "1. Make a unique-value list (making it a set before) out of `nums`.\n",
    "2. Check if resultant length is no less than k, otherwise return the maximum element of `nums`. \n",
    "3. Add elements of `nums` with an opposite sign to the priority queue in order to emulate the max heap.\n",
    "4. Start popping from the priority queue and assigning popped elements to the `result` restoring it original sign. "
   ],
   "metadata": {
    "collapsed": false
   },
   "id": "b92238688c7e14c"
  },
  {
   "cell_type": "code",
   "outputs": [],
   "source": [
    "from typing import List\n",
    "import heapq as h\n",
    "\n",
    "class Solution:\n",
    "    def thirdMax(self, nums: List[int]) -> int:\n",
    "        k = 3\n",
    "        nums = list(set(nums))\n",
    "        if len(nums) < k:\n",
    "            return max(nums)\n",
    "        p_q = []\n",
    "        result = 0\n",
    "        while nums:\n",
    "            h.heappush(p_q, -nums.pop())\n",
    "        while k > 0 and p_q:\n",
    "            result = -h.heappop(p_q)\n",
    "            k-=1\n",
    "        return result"
   ],
   "metadata": {
    "collapsed": false,
    "ExecuteTime": {
     "end_time": "2024-03-02T17:21:01.951738Z",
     "start_time": "2024-03-02T17:21:01.947354Z"
    }
   },
   "id": "65bcd873263764a7",
   "execution_count": 11
  },
  {
   "cell_type": "code",
   "outputs": [
    {
     "data": {
      "text/plain": "3"
     },
     "execution_count": 12,
     "metadata": {},
     "output_type": "execute_result"
    }
   ],
   "source": [
    "Solution().thirdMax([3,3,1])"
   ],
   "metadata": {
    "collapsed": false,
    "ExecuteTime": {
     "end_time": "2024-03-02T17:21:05.305271Z",
     "start_time": "2024-03-02T17:21:05.301386Z"
    }
   },
   "id": "a7cdaa9f11f57ebf",
   "execution_count": 12
  }
 ],
 "metadata": {
  "kernelspec": {
   "display_name": "Python 3",
   "language": "python",
   "name": "python3"
  },
  "language_info": {
   "codemirror_mode": {
    "name": "ipython",
    "version": 2
   },
   "file_extension": ".py",
   "mimetype": "text/x-python",
   "name": "python",
   "nbconvert_exporter": "python",
   "pygments_lexer": "ipython2",
   "version": "2.7.6"
  }
 },
 "nbformat": 4,
 "nbformat_minor": 5
}
