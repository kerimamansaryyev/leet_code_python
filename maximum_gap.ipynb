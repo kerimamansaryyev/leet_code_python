{
 "cells": [
  {
   "cell_type": "code",
   "execution_count": 13,
   "id": "initial_id",
   "metadata": {
    "collapsed": true,
    "ExecuteTime": {
     "end_time": "2024-05-09T20:21:00.918370Z",
     "start_time": "2024-05-09T20:21:00.914550Z"
    }
   },
   "outputs": [],
   "source": [
    "from typing import List\n",
    "\n",
    "\n",
    "class Solution:\n",
    "    def maximumGap(self, nums: List[int]) -> int:\n",
    "        if len(nums) < 2: return 0\n",
    "        max_gap = 0\n",
    "        max_num = max(nums)\n",
    "        bucket = [False] * (max_num + 1)\n",
    "        while nums: bucket[nums.pop(0)] = True\n",
    "        prev_neighbor = None\n",
    "        counter = 0\n",
    "        while bucket:\n",
    "            is_present = bucket.pop(0)\n",
    "            if not is_present or (is_present and not prev_neighbor):\n",
    "                prev_neighbor = counter\n",
    "                continue\n",
    "            counter += 1\n",
    "            diff = counter - prev_neighbor\n",
    "            max_gap = max(max_gap, diff)\n",
    "        return max_gap"
   ]
  },
  {
   "cell_type": "code",
   "outputs": [
    {
     "name": "stdout",
     "output_type": "stream",
     "text": [
      "[0, 0, 0, 0]\n"
     ]
    }
   ],
   "source": [
    "Solution().maximumGap([1, 3])"
   ],
   "metadata": {
    "collapsed": false,
    "ExecuteTime": {
     "end_time": "2024-05-09T20:21:01.834267Z",
     "start_time": "2024-05-09T20:21:01.830958Z"
    }
   },
   "id": "7141bc130ab103ae",
   "execution_count": 14
  }
 ],
 "metadata": {
  "kernelspec": {
   "display_name": "Python 3",
   "language": "python",
   "name": "python3"
  },
  "language_info": {
   "codemirror_mode": {
    "name": "ipython",
    "version": 2
   },
   "file_extension": ".py",
   "mimetype": "text/x-python",
   "name": "python",
   "nbconvert_exporter": "python",
   "pygments_lexer": "ipython2",
   "version": "2.7.6"
  }
 },
 "nbformat": 4,
 "nbformat_minor": 5
}
