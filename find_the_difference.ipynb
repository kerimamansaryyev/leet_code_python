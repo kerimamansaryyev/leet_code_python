{
 "cells": [
  {
   "cell_type": "markdown",
   "source": [
    "# Find the difference\n",
    "\n",
    "## Intuition\n",
    "1. Build a list of used character counters in the alphabet range\n",
    "2. Traverse through characters of t decreasing corresponding alphabet letter count\n",
    "3. Traverse through characters of s increasing corresponding alphabet letter count\n",
    "4. Traverse through the alphabet list and return character if its counter's value is not equal to 0"
   ],
   "metadata": {
    "collapsed": false
   },
   "id": "c2e43a9d81350021"
  },
  {
   "cell_type": "code",
   "outputs": [],
   "source": [
    "class Solution:\n",
    "    def findTheDifference(self, s: str, t: str) -> str:\n",
    "        alph = [0 for _ in range(0, 26)]\n",
    "        for i in range(len(t)):\n",
    "            alph[ord(t[i]) - ord('a')]-=1\n",
    "        for i in range(len(s)):\n",
    "            alph[ord(s[i]) - ord('a')]+=1\n",
    "            \n",
    "        for i in range(26):\n",
    "            if alph[i] != 0:\n",
    "                return chr(ord('a') +i)\n",
    "            \n",
    "        return \"\"\n",
    "        "
   ],
   "metadata": {
    "collapsed": false,
    "ExecuteTime": {
     "end_time": "2024-03-01T20:49:40.933825Z",
     "start_time": "2024-03-01T20:49:40.930188Z"
    }
   },
   "id": "1dca4bd14395fe70",
   "execution_count": 28
  },
  {
   "cell_type": "markdown",
   "source": [
    "## Checking hypothesis"
   ],
   "metadata": {
    "collapsed": false
   },
   "id": "f5a7caeb8cca8b54"
  },
  {
   "cell_type": "code",
   "outputs": [
    {
     "data": {
      "text/plain": "'e'"
     },
     "execution_count": 30,
     "metadata": {},
     "output_type": "execute_result"
    }
   ],
   "source": [
    "Solution().findTheDifference(\"abcd\", \"abcde\")"
   ],
   "metadata": {
    "collapsed": false,
    "ExecuteTime": {
     "end_time": "2024-03-01T20:53:28.136294Z",
     "start_time": "2024-03-01T20:53:28.132138Z"
    }
   },
   "id": "d4cd7a6b728ea304",
   "execution_count": 30
  }
 ],
 "metadata": {
  "kernelspec": {
   "display_name": "Python 3",
   "language": "python",
   "name": "python3"
  },
  "language_info": {
   "codemirror_mode": {
    "name": "ipython",
    "version": 2
   },
   "file_extension": ".py",
   "mimetype": "text/x-python",
   "name": "python",
   "nbconvert_exporter": "python",
   "pygments_lexer": "ipython2",
   "version": "2.7.6"
  }
 },
 "nbformat": 4,
 "nbformat_minor": 5
}
