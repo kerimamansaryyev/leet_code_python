{
 "cells": [
  {
   "cell_type": "markdown",
   "source": [
    "# Guess number higher or lower\n",
    "## Intuition (Binary search)\n",
    "1. Define lower bound as 1 and use `n` as upper bound of the possible ranges\n",
    "2. Define `mid` as a median value between upper bound and lower bound\n",
    "3. Guess if `mid` is the guessed number\n",
    "4. If not, when the guess is equal to 1 - we need to shift our search to right starting from `mid+1`, else we shift upper bound to left by `mid-1`"
   ],
   "metadata": {
    "collapsed": false
   },
   "id": "a7bdb8b71c27c169"
  },
  {
   "cell_type": "code",
   "outputs": [],
   "source": [
    "def guess(num: int) -> int: return 0 if num == 6 else -1 if num > 6 else 1"
   ],
   "metadata": {
    "collapsed": false,
    "ExecuteTime": {
     "end_time": "2024-03-02T06:35:24.797144Z",
     "start_time": "2024-03-02T06:35:24.794209Z"
    }
   },
   "id": "e1f9fd960cb93571",
   "execution_count": 3
  },
  {
   "cell_type": "code",
   "outputs": [],
   "source": [
    "class Solution:\n",
    "    def guessNumber(self, n: int) -> int:\n",
    "        lower_bound = 1\n",
    "        mid = (n + lower_bound) // 2\n",
    "        result = guess(mid)\n",
    "        while result != 0:\n",
    "            if result == 1:\n",
    "                lower_bound = mid + 1\n",
    "            elif result == -1:\n",
    "                n = mid - 1\n",
    "            mid = (lower_bound + n) // 2\n",
    "            result = guess(mid)\n",
    "\n",
    "        return mid\n"
   ],
   "metadata": {
    "collapsed": false,
    "ExecuteTime": {
     "end_time": "2024-03-02T06:41:41.930724Z",
     "start_time": "2024-03-02T06:41:41.926949Z"
    }
   },
   "id": "2b1e448b3acb6afb",
   "execution_count": 11
  },
  {
   "cell_type": "markdown",
   "source": [
    "## Checking hypothesis"
   ],
   "metadata": {
    "collapsed": false
   },
   "id": "47b683656a105e47"
  },
  {
   "cell_type": "code",
   "outputs": [
    {
     "data": {
      "text/plain": "6"
     },
     "execution_count": 12,
     "metadata": {},
     "output_type": "execute_result"
    }
   ],
   "source": [
    "Solution().guessNumber(1234567)"
   ],
   "metadata": {
    "collapsed": false,
    "ExecuteTime": {
     "end_time": "2024-03-02T06:41:44.168897Z",
     "start_time": "2024-03-02T06:41:44.165467Z"
    }
   },
   "id": "c48db761bc924be2",
   "execution_count": 12
  }
 ],
 "metadata": {
  "kernelspec": {
   "display_name": "Python 3",
   "language": "python",
   "name": "python3"
  },
  "language_info": {
   "codemirror_mode": {
    "name": "ipython",
    "version": 2
   },
   "file_extension": ".py",
   "mimetype": "text/x-python",
   "name": "python",
   "nbconvert_exporter": "python",
   "pygments_lexer": "ipython2",
   "version": "2.7.6"
  }
 },
 "nbformat": 4,
 "nbformat_minor": 5
}
