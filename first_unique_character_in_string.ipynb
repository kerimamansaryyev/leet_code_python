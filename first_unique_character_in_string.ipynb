{
 "cells": [
  {
   "cell_type": "markdown",
   "source": [
    "# First Unique character in string\n",
    "## Intuition\n",
    "1. Traverse through all the letters of string adding character counters into map by their character key.\n",
    "2. Traverse again checking if the usage of the character is 1. If so, return its index "
   ],
   "metadata": {
    "collapsed": false
   },
   "id": "35801e8f7abc0c06"
  },
  {
   "cell_type": "code",
   "outputs": [],
   "source": [
    "from collections import defaultdict\n",
    "\n",
    "class Solution:\n",
    "    def firstUniqChar(self, s: str) -> int:\n",
    "        char_map = defaultdict(int)\n",
    "        for char in s:\n",
    "            char_map[char] +=  1\n",
    "        for i in range(len(s)):\n",
    "            if char_map[s[i]] == 1:\n",
    "                return i\n",
    "        return -1"
   ],
   "metadata": {
    "collapsed": false,
    "ExecuteTime": {
     "end_time": "2024-03-01T21:21:17.466Z",
     "start_time": "2024-03-01T21:21:17.462601Z"
    }
   },
   "id": "792484947b8b69b6",
   "execution_count": 1
  },
  {
   "cell_type": "markdown",
   "source": [
    "## Checking hypothesis"
   ],
   "metadata": {
    "collapsed": false
   },
   "id": "58b85964a9296cff"
  },
  {
   "cell_type": "code",
   "outputs": [
    {
     "data": {
      "text/plain": "2"
     },
     "execution_count": 2,
     "metadata": {},
     "output_type": "execute_result"
    }
   ],
   "source": [
    "Solution().firstUniqChar(\"loveleetcode\")"
   ],
   "metadata": {
    "collapsed": false,
    "ExecuteTime": {
     "end_time": "2024-03-01T21:21:19.678755Z",
     "start_time": "2024-03-01T21:21:19.673363Z"
    }
   },
   "id": "4b71dd7bab350952",
   "execution_count": 2
  }
 ],
 "metadata": {
  "kernelspec": {
   "display_name": "Python 3",
   "language": "python",
   "name": "python3"
  },
  "language_info": {
   "codemirror_mode": {
    "name": "ipython",
    "version": 2
   },
   "file_extension": ".py",
   "mimetype": "text/x-python",
   "name": "python",
   "nbconvert_exporter": "python",
   "pygments_lexer": "ipython2",
   "version": "2.7.6"
  }
 },
 "nbformat": 4,
 "nbformat_minor": 5
}
