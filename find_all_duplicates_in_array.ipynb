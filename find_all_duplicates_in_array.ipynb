{
 "cells": [
  {
   "cell_type": "markdown",
   "source": [
    "# Find all duplicates in array\n",
    "## Intuition\n",
    "1. Create a map with applicable default `int` values\n",
    "2. Traverse through all elements of the array increasing appear counters in the map.\n",
    "3. Append the ones who already has appeared to the answer list"
   ],
   "metadata": {
    "collapsed": false
   },
   "id": "8f81bf9033d88f48"
  },
  {
   "cell_type": "code",
   "outputs": [],
   "source": [
    "from collections import defaultdict\n",
    "from typing import List\n",
    "\n",
    "\n",
    "class Solution:\n",
    "    def findDuplicates(self, nums: List[int]) -> List[int]:\n",
    "        m = defaultdict(int)\n",
    "        ans = []\n",
    "        for num in nums:\n",
    "            if m[num] >= 1:\n",
    "                ans.append(num)\n",
    "            else:\n",
    "                m[num] += 1\n",
    "        return ans"
   ],
   "metadata": {
    "collapsed": true,
    "ExecuteTime": {
     "end_time": "2024-03-04T20:26:54.150018Z",
     "start_time": "2024-03-04T20:26:54.146675Z"
    }
   },
   "id": "initial_id",
   "execution_count": 35
  },
  {
   "cell_type": "code",
   "outputs": [
    {
     "data": {
      "text/plain": "[2, 3]"
     },
     "execution_count": 36,
     "metadata": {},
     "output_type": "execute_result"
    }
   ],
   "source": [
    "Solution().findDuplicates([4,3,2,7,8,2,3,1])"
   ],
   "metadata": {
    "collapsed": false,
    "ExecuteTime": {
     "end_time": "2024-03-04T20:26:56.352864Z",
     "start_time": "2024-03-04T20:26:56.349034Z"
    }
   },
   "id": "678bec73fba1f163",
   "execution_count": 36
  }
 ],
 "metadata": {
  "kernelspec": {
   "display_name": "Python 3",
   "language": "python",
   "name": "python3"
  },
  "language_info": {
   "codemirror_mode": {
    "name": "ipython",
    "version": 2
   },
   "file_extension": ".py",
   "mimetype": "text/x-python",
   "name": "python",
   "nbconvert_exporter": "python",
   "pygments_lexer": "ipython2",
   "version": "2.7.6"
  }
 },
 "nbformat": 4,
 "nbformat_minor": 5
}
