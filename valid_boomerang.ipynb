{
 "cells": [
  {
   "cell_type": "markdown",
   "source": [
    "# Valid boomerang\n",
    "## Intuition\n",
    "1. The 3 points can form a triangle, and if the triangle's square is not equal to 0 then it's a valid boomerang.\n",
    "2. The 3 sides are available, so it's better to use the area by semi-perimeter formula."
   ],
   "metadata": {
    "collapsed": false
   },
   "id": "54b4a5acd9e76a17"
  },
  {
   "cell_type": "code",
   "execution_count": 56,
   "id": "initial_id",
   "metadata": {
    "collapsed": true,
    "ExecuteTime": {
     "end_time": "2024-05-11T05:46:18.527079Z",
     "start_time": "2024-05-11T05:46:18.522753Z"
    }
   },
   "outputs": [],
   "source": [
    "from typing import List\n",
    "\n",
    "\n",
    "class Solution:\n",
    "\n",
    "    def __find_length__(self, a: List[int], b: List[int]):\n",
    "        return (((b[0] - a[0]) ** 2) + ((b[1] - a[1]) ** 2)) ** 0.5\n",
    "\n",
    "    def isBoomerang(self, points: List[List[int]]) -> bool:\n",
    "        (a, b, c) = points\n",
    "        ab = self.__find_length__(a, b)\n",
    "        bc = self.__find_length__(b, c)\n",
    "        ac = self.__find_length__(a, c)\n",
    "        s = (ab + bc + ac) / 2\n",
    "        return (abs(s*(s-ac)*(s-ab)*(s-bc)) ** 0.5) > 0.1\n",
    "        "
   ]
  },
  {
   "cell_type": "code",
   "outputs": [
    {
     "data": {
      "text/plain": "True"
     },
     "execution_count": 57,
     "metadata": {},
     "output_type": "execute_result"
    }
   ],
   "source": [
    "Solution().isBoomerang([[1, 1], [2, 3], [3, 2]])"
   ],
   "metadata": {
    "collapsed": false,
    "ExecuteTime": {
     "end_time": "2024-05-11T05:46:18.532376Z",
     "start_time": "2024-05-11T05:46:18.529005Z"
    }
   },
   "id": "29e867d1d1a04eb5",
   "execution_count": 57
  },
  {
   "cell_type": "code",
   "outputs": [
    {
     "data": {
      "text/plain": "False"
     },
     "execution_count": 58,
     "metadata": {},
     "output_type": "execute_result"
    }
   ],
   "source": [
    "Solution().isBoomerang([[1,1],[2,2],[3,3]])"
   ],
   "metadata": {
    "collapsed": false,
    "ExecuteTime": {
     "end_time": "2024-05-11T05:46:18.535791Z",
     "start_time": "2024-05-11T05:46:18.533367Z"
    }
   },
   "id": "87f9054c5c16725d",
   "execution_count": 58
  },
  {
   "cell_type": "code",
   "outputs": [
    {
     "data": {
      "text/plain": "False"
     },
     "execution_count": 59,
     "metadata": {},
     "output_type": "execute_result"
    }
   ],
   "source": [
    "Solution().isBoomerang([[1,1],[2,2],[7,7]])"
   ],
   "metadata": {
    "collapsed": false,
    "ExecuteTime": {
     "end_time": "2024-05-11T05:46:18.538985Z",
     "start_time": "2024-05-11T05:46:18.536635Z"
    }
   },
   "id": "19cf0d3cd51c69d9",
   "execution_count": 59
  }
 ],
 "metadata": {
  "kernelspec": {
   "display_name": "Python 3",
   "language": "python",
   "name": "python3"
  },
  "language_info": {
   "codemirror_mode": {
    "name": "ipython",
    "version": 2
   },
   "file_extension": ".py",
   "mimetype": "text/x-python",
   "name": "python",
   "nbconvert_exporter": "python",
   "pygments_lexer": "ipython2",
   "version": "2.7.6"
  }
 },
 "nbformat": 4,
 "nbformat_minor": 5
}
