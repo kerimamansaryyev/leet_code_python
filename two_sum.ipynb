{
 "cells": [
  {
   "cell_type": "markdown",
   "source": [
    "## Intuition:\n",
    "1. Map all the values of as keys and indices as values of a hash map\n",
    "2. Traverse through all the numbers of `nums` subtracting `target` from each of the numbers\n",
    "3. If the difference exists as a key in the hash map, then return an index of the current number in traversal and the index found in the hash map. "
   ],
   "metadata": {
    "collapsed": false
   },
   "id": "3c137eb56df60165"
  },
  {
   "cell_type": "code",
   "outputs": [],
   "source": [
    "from typing import List\n",
    "\n",
    "\n",
    "class Solution(object):\n",
    "    def twoSum(self, nums: List[int], target: int) -> List[int]:\n",
    "        num_map = {}\n",
    "        for i in range(0, len(nums)):\n",
    "            num_map[nums[i]] = i\n",
    "        for i in range(0, len(nums)):\n",
    "            diff_index = num_map.get(target - nums[i])\n",
    "            if diff_index is not None and i != diff_index:\n",
    "                return [i, diff_index]\n",
    "        return []"
   ],
   "metadata": {
    "collapsed": false,
    "ExecuteTime": {
     "end_time": "2024-03-01T06:54:55.509431Z",
     "start_time": "2024-03-01T06:54:55.505164Z"
    }
   },
   "id": "d3d7d4bc5dff755a",
   "execution_count": 20
  },
  {
   "cell_type": "code",
   "outputs": [
    {
     "data": {
      "text/plain": "[1, 2]"
     },
     "execution_count": 21,
     "metadata": {},
     "output_type": "execute_result"
    }
   ],
   "source": [
    "Solution().twoSum([2, 5, 5, 11], 10)"
   ],
   "metadata": {
    "collapsed": false,
    "ExecuteTime": {
     "end_time": "2024-03-01T06:54:56.875287Z",
     "start_time": "2024-03-01T06:54:56.871259Z"
    }
   },
   "id": "60a975f6b5a88210",
   "execution_count": 21
  },
  {
   "cell_type": "markdown",
   "source": [
    "## Checking by feeding inputs"
   ],
   "metadata": {
    "collapsed": false
   },
   "id": "d45e08e27e57c172"
  },
  {
   "cell_type": "code",
   "outputs": [
    {
     "data": {
      "text/plain": "[0, 1]"
     },
     "execution_count": 16,
     "metadata": {},
     "output_type": "execute_result"
    }
   ],
   "source": [
    "Solution().twoSum([2, 7, 11, 15], 9)"
   ],
   "metadata": {
    "collapsed": false,
    "ExecuteTime": {
     "end_time": "2024-03-01T06:53:14.091393Z",
     "start_time": "2024-03-01T06:53:14.087584Z"
    }
   },
   "id": "db49488e9360f052",
   "execution_count": 16
  },
  {
   "cell_type": "code",
   "outputs": [
    {
     "data": {
      "text/plain": "[1, 2]"
     },
     "execution_count": 17,
     "metadata": {},
     "output_type": "execute_result"
    }
   ],
   "source": [
    "Solution().twoSum([3, 2, 4], 6)"
   ],
   "metadata": {
    "collapsed": false,
    "ExecuteTime": {
     "end_time": "2024-03-01T06:53:15.542690Z",
     "start_time": "2024-03-01T06:53:15.538576Z"
    }
   },
   "id": "4692d98eb61672d4",
   "execution_count": 17
  }
 ],
 "metadata": {
  "kernelspec": {
   "display_name": "Python 3",
   "language": "python",
   "name": "python3"
  },
  "language_info": {
   "codemirror_mode": {
    "name": "ipython",
    "version": 2
   },
   "file_extension": ".py",
   "mimetype": "text/x-python",
   "name": "python",
   "nbconvert_exporter": "python",
   "pygments_lexer": "ipython2",
   "version": "2.7.6"
  }
 },
 "nbformat": 4,
 "nbformat_minor": 5
}
