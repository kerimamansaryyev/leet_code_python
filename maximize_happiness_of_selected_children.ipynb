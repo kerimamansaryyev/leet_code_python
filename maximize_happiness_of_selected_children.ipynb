{
 "cells": [
  {
   "cell_type": "markdown",
   "source": [
    "# Maximize happiness of selected children\n",
    "## Intuition\n",
    "1. Sort the happiness array.\n",
    "2. Start selecting kids with most happiness to achieve maximum happiness before the others decrease."
   ],
   "metadata": {
    "collapsed": false
   },
   "id": "f75b6228558d838b"
  },
  {
   "cell_type": "code",
   "outputs": [],
   "source": [
    "from typing import List\n",
    "\n",
    "\n",
    "class Solution:\n",
    "    def maximumHappinessSum(self, happiness: List[int], k: int) -> int:\n",
    "        happiness.sort()\n",
    "        res = 0\n",
    "        decreasing = 0\n",
    "        while happiness and k > 0:\n",
    "            res += max(happiness.pop() - decreasing, 0)\n",
    "            decreasing += 1\n",
    "            k -= 1\n",
    "        return res"
   ],
   "metadata": {
    "collapsed": false,
    "ExecuteTime": {
     "end_time": "2024-05-09T17:19:34.313203Z",
     "start_time": "2024-05-09T17:19:34.308589Z"
    }
   },
   "id": "1a7581078f9c0d76",
   "execution_count": 59
  },
  {
   "cell_type": "code",
   "outputs": [
    {
     "name": "stdout",
     "output_type": "stream",
     "text": [
      "[3, 4, 5, 5]\n"
     ]
    },
    {
     "data": {
      "text/plain": "5"
     },
     "execution_count": 57,
     "metadata": {},
     "output_type": "execute_result"
    }
   ],
   "source": [
    "Solution().maximumHappinessSum([2, 3, 4, 5], 1)"
   ],
   "metadata": {
    "collapsed": false,
    "ExecuteTime": {
     "end_time": "2024-05-09T17:13:04.963342Z",
     "start_time": "2024-05-09T17:13:04.958864Z"
    }
   },
   "id": "132aedb657395e1c",
   "execution_count": 57
  }
 ],
 "metadata": {
  "kernelspec": {
   "display_name": "Python 3",
   "language": "python",
   "name": "python3"
  },
  "language_info": {
   "codemirror_mode": {
    "name": "ipython",
    "version": 2
   },
   "file_extension": ".py",
   "mimetype": "text/x-python",
   "name": "python",
   "nbconvert_exporter": "python",
   "pygments_lexer": "ipython2",
   "version": "2.7.6"
  }
 },
 "nbformat": 4,
 "nbformat_minor": 5
}
