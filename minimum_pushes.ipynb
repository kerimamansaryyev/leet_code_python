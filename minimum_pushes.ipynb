{
 "cells": [
  {
   "cell_type": "code",
   "execution_count": 105,
   "id": "initial_id",
   "metadata": {
    "collapsed": true,
    "ExecuteTime": {
     "end_time": "2024-08-06T21:34:12.697328Z",
     "start_time": "2024-08-06T21:34:12.686242Z"
    }
   },
   "outputs": [],
   "source": [
    "from collections import defaultdict\n",
    "\n",
    "\n",
    "class Solution:\n",
    "    def minimumPushes(self, word: str) -> int:\n",
    "        letter_count = defaultdict(int)\n",
    "\n",
    "        for letter in word:\n",
    "            letter_count[letter] += 1\n",
    "\n",
    "        word = []\n",
    "\n",
    "        while letter_count:\n",
    "            word.append(letter_count.popitem()[1])\n",
    "\n",
    "        letter_freq = sorted(word)\n",
    "\n",
    "        cost = 0\n",
    "        i = 0\n",
    "        step = 0\n",
    "\n",
    "        while letter_freq:\n",
    "            if i % 8 == 0: step += 1\n",
    "            cost += step * letter_freq.pop()\n",
    "            i += 1\n",
    "\n",
    "        return cost"
   ]
  },
  {
   "cell_type": "code",
   "outputs": [
    {
     "data": {
      "text/plain": "5"
     },
     "execution_count": 99,
     "metadata": {},
     "output_type": "execute_result"
    }
   ],
   "source": [
    "Solution().minimumPushes('asssd')"
   ],
   "metadata": {
    "collapsed": false,
    "ExecuteTime": {
     "end_time": "2024-08-06T15:08:45.259061Z",
     "start_time": "2024-08-06T15:08:45.256044Z"
    }
   },
   "id": "241c08d6be279504",
   "execution_count": 99
  },
  {
   "cell_type": "code",
   "outputs": [
    {
     "data": {
      "text/plain": "5"
     },
     "execution_count": 100,
     "metadata": {},
     "output_type": "execute_result"
    }
   ],
   "source": [
    "Solution().minimumPushes(\"abcde\")"
   ],
   "metadata": {
    "collapsed": false,
    "ExecuteTime": {
     "end_time": "2024-08-06T15:08:45.262836Z",
     "start_time": "2024-08-06T15:08:45.260025Z"
    }
   },
   "id": "66b375fb8b7c01c9",
   "execution_count": 100
  },
  {
   "cell_type": "code",
   "outputs": [
    {
     "data": {
      "text/plain": "12"
     },
     "execution_count": 101,
     "metadata": {},
     "output_type": "execute_result"
    }
   ],
   "source": [
    "Solution().minimumPushes(\"xyzxyzxyzxyz\")"
   ],
   "metadata": {
    "collapsed": false,
    "ExecuteTime": {
     "end_time": "2024-08-06T15:08:45.266882Z",
     "start_time": "2024-08-06T15:08:45.264327Z"
    }
   },
   "id": "6372fc8df71d5075",
   "execution_count": 101
  },
  {
   "cell_type": "code",
   "outputs": [
    {
     "data": {
      "text/plain": "24"
     },
     "execution_count": 102,
     "metadata": {},
     "output_type": "execute_result"
    }
   ],
   "source": [
    "Solution().minimumPushes(\"aabbccddeeffgghhiiiiii\")"
   ],
   "metadata": {
    "collapsed": false,
    "ExecuteTime": {
     "end_time": "2024-08-06T15:08:45.269865Z",
     "start_time": "2024-08-06T15:08:45.267535Z"
    }
   },
   "id": "daf82a1afec9d6d7",
   "execution_count": 102
  },
  {
   "cell_type": "code",
   "outputs": [
    {
     "data": {
      "text/plain": "12"
     },
     "execution_count": 103,
     "metadata": {},
     "output_type": "execute_result"
    }
   ],
   "source": [
    "Solution().minimumPushes(\"cwokgnhaet\")"
   ],
   "metadata": {
    "collapsed": false,
    "ExecuteTime": {
     "end_time": "2024-08-06T15:08:45.272838Z",
     "start_time": "2024-08-06T15:08:45.270666Z"
    }
   },
   "id": "618bac8c20ee1ee7",
   "execution_count": 103
  },
  {
   "cell_type": "code",
   "outputs": [
    {
     "data": {
      "text/plain": "32"
     },
     "execution_count": 104,
     "metadata": {},
     "output_type": "execute_result"
    }
   ],
   "source": [
    "Solution().minimumPushes('amhnqwqakouhswyywctfrqsyh')"
   ],
   "metadata": {
    "collapsed": false,
    "ExecuteTime": {
     "end_time": "2024-08-06T15:08:45.276207Z",
     "start_time": "2024-08-06T15:08:45.273736Z"
    }
   },
   "id": "6093c5b03eee15f3",
   "execution_count": 104
  }
 ],
 "metadata": {
  "kernelspec": {
   "display_name": "Python 3",
   "language": "python",
   "name": "python3"
  },
  "language_info": {
   "codemirror_mode": {
    "name": "ipython",
    "version": 2
   },
   "file_extension": ".py",
   "mimetype": "text/x-python",
   "name": "python",
   "nbconvert_exporter": "python",
   "pygments_lexer": "ipython2",
   "version": "2.7.6"
  }
 },
 "nbformat": 4,
 "nbformat_minor": 5
}
