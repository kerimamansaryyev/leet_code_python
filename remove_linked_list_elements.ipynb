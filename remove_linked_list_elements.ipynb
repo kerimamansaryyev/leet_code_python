{
 "cells": [
  {
   "cell_type": "markdown",
   "source": [
    "# Intuition\n",
    "1. Create the null head and point it to the given head, so:\n",
    "    `null -> 1 -> 2 -> 3`\n",
    "2. Start traversing while `cursor` is not null and its next element exists.\n",
    "3. Check if its next value is equal to `val` and keep  reassigning `cursor.next` to `cursor.next.next`. Do it while `cursor.next` is still equal to `val`.\n",
    "4. Return the head.      "
   ],
   "metadata": {
    "collapsed": false
   },
   "id": "66707358fe15a2f3"
  },
  {
   "cell_type": "markdown",
   "source": [
    "Defining the list node class"
   ],
   "metadata": {
    "collapsed": false
   },
   "id": "44df1bfaaebcd2e9"
  },
  {
   "cell_type": "code",
   "outputs": [],
   "source": [
    "class ListNode:\n",
    "    def __init__(self, val=0, next=None):\n",
    "        self.val = val\n",
    "        self.next = next"
   ],
   "metadata": {
    "collapsed": false,
    "ExecuteTime": {
     "end_time": "2024-03-23T01:51:46.006573Z",
     "start_time": "2024-03-23T01:51:46.004030Z"
    }
   },
   "id": "75a33a6afc23830a",
   "execution_count": 6
  },
  {
   "cell_type": "markdown",
   "source": [
    "Defining the solution"
   ],
   "metadata": {
    "collapsed": false
   },
   "id": "1baa259987e8daa7"
  },
  {
   "cell_type": "code",
   "outputs": [],
   "source": [
    "from typing import Optional\n",
    "\n",
    "\n",
    "class Solution:\n",
    "    def removeElements(self, head: Optional[ListNode], val: int) -> Optional[ListNode]:\n",
    "        before_head = ListNode(None,head)\n",
    "        cursor = before_head\n",
    "        \n",
    "        while cursor and cursor.next:\n",
    "            while cursor.next and cursor.next.val == val:\n",
    "                cursor.next = cursor.next.next\n",
    "            cursor = cursor.next\n",
    "        \n",
    "        return before_head.next"
   ],
   "metadata": {
    "collapsed": false,
    "ExecuteTime": {
     "end_time": "2024-03-23T01:51:46.010763Z",
     "start_time": "2024-03-23T01:51:46.008052Z"
    }
   },
   "id": "e9c5e19ee276e186",
   "execution_count": 7
  },
  {
   "cell_type": "code",
   "outputs": [
    {
     "name": "stdout",
     "output_type": "stream",
     "text": [
      "<__main__.ListNode object at 0x107bfaba0>\n"
     ]
    }
   ],
   "source": [],
   "metadata": {
    "collapsed": false,
    "ExecuteTime": {
     "end_time": "2024-03-23T01:52:00.656863Z",
     "start_time": "2024-03-23T01:52:00.653472Z"
    }
   },
   "id": "710eb2a5a2fb486",
   "execution_count": 10
  }
 ],
 "metadata": {
  "kernelspec": {
   "display_name": "Python 3",
   "language": "python",
   "name": "python3"
  },
  "language_info": {
   "codemirror_mode": {
    "name": "ipython",
    "version": 2
   },
   "file_extension": ".py",
   "mimetype": "text/x-python",
   "name": "python",
   "nbconvert_exporter": "python",
   "pygments_lexer": "ipython2",
   "version": "2.7.6"
  }
 },
 "nbformat": 4,
 "nbformat_minor": 5
}
