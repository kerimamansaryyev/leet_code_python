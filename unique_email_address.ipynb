{
 "cells": [
  {
   "cell_type": "markdown",
   "source": [
    "# Unique email address\n",
    "\n",
    "## Intuition\n",
    "1. Create a set to mark visited emails\n",
    "2. Iterate through emails:\n",
    "   1. Split the string by @ and pop the last as the domain.\n",
    "   2. Pop the last part of the split string as the local.\n",
    "   3. Split the local by + and take the first part, split it again by . and join all parts.\n",
    "   4. Add `f{local}{domain}` to the set to mark it as visited.\n",
    "3. Return the length of the set as the result."
   ],
   "metadata": {
    "collapsed": false
   },
   "id": "4636cf05837cc96e"
  },
  {
   "cell_type": "code",
   "outputs": [],
   "source": [
    "from typing import List\n",
    "\n",
    "\n",
    "class Solution:\n",
    "    def numUniqueEmails(self, emails: List[str]) -> int:\n",
    "        visited = set()\n",
    "        for email in emails:\n",
    "            split_by_at = email.split('@')\n",
    "            domain = split_by_at.pop()\n",
    "            local = ''.join(split_by_at.pop().split('+').pop(0).split('.'))\n",
    "            \n",
    "            visited.add(f'{local}@{domain}')\n",
    "        return len(visited)"
   ],
   "metadata": {
    "collapsed": false,
    "ExecuteTime": {
     "end_time": "2024-08-04T04:46:01.316539Z",
     "start_time": "2024-08-04T04:46:01.313159Z"
    }
   },
   "id": "83d9f42fa5bc6275",
   "execution_count": 66
  },
  {
   "cell_type": "code",
   "outputs": [
    {
     "data": {
      "text/plain": "2"
     },
     "execution_count": 67,
     "metadata": {},
     "output_type": "execute_result"
    }
   ],
   "source": [
    "Solution().numUniqueEmails([\n",
    "    \"test.email+alex@leetcode.com\",\n",
    "    \"test.e.mail+bob.cathy@leetcode.com\",\n",
    "    \"testemail+david@lee.tcode.com\"\n",
    "])"
   ],
   "metadata": {
    "collapsed": false,
    "ExecuteTime": {
     "end_time": "2024-08-04T04:46:01.320755Z",
     "start_time": "2024-08-04T04:46:01.317938Z"
    }
   },
   "id": "607cb50e228eee98",
   "execution_count": 67
  },
  {
   "cell_type": "code",
   "outputs": [
    {
     "data": {
      "text/plain": "3"
     },
     "execution_count": 68,
     "metadata": {},
     "output_type": "execute_result"
    }
   ],
   "source": [
    "Solution().numUniqueEmails(\n",
    "    [\"a@leetcode.com\", \"b@leetcode.com\", \"c@leetcode.com\", ]\n",
    ")"
   ],
   "metadata": {
    "collapsed": false,
    "ExecuteTime": {
     "end_time": "2024-08-04T04:46:01.324083Z",
     "start_time": "2024-08-04T04:46:01.321567Z"
    }
   },
   "id": "102ad1534dbec50f",
   "execution_count": 68
  },
  {
   "cell_type": "code",
   "outputs": [
    {
     "data": {
      "text/plain": "2"
     },
     "execution_count": 69,
     "metadata": {},
     "output_type": "execute_result"
    }
   ],
   "source": [
    "Solution().numUniqueEmails(\n",
    "    [\"linqmafia@leet+code.com\", \"linqmafia@code.com\"]\n",
    ")"
   ],
   "metadata": {
    "collapsed": false,
    "ExecuteTime": {
     "end_time": "2024-08-04T04:46:01.327948Z",
     "start_time": "2024-08-04T04:46:01.325433Z"
    }
   },
   "id": "88ddf665f96428b3",
   "execution_count": 69
  }
 ],
 "metadata": {
  "kernelspec": {
   "display_name": "Python 3",
   "language": "python",
   "name": "python3"
  },
  "language_info": {
   "codemirror_mode": {
    "name": "ipython",
    "version": 2
   },
   "file_extension": ".py",
   "mimetype": "text/x-python",
   "name": "python",
   "nbconvert_exporter": "python",
   "pygments_lexer": "ipython2",
   "version": "2.7.6"
  }
 },
 "nbformat": 4,
 "nbformat_minor": 5
}
