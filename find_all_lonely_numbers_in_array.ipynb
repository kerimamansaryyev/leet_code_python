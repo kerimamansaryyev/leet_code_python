{
 "cells": [
  {
   "cell_type": "markdown",
   "source": [
    "# Find All lonely numbers in array\n",
    "\n",
    "## Intuition\n",
    "1. Create a default dictionary of `int` to mark occurrence count per number.\n",
    "2. Create the result list.\n",
    "3. Traverse through the numbers marking their occurrence count.\n",
    "4. Traverse again and check if the number is not repeated, and no adjacent neighbors using `visited_count` dictionary."
   ],
   "metadata": {
    "collapsed": false
   },
   "id": "462a16c8caa0c1d1"
  },
  {
   "cell_type": "code",
   "outputs": [],
   "source": [
    "from collections import defaultdict\n",
    "from typing import List\n",
    "\n",
    "\n",
    "class Solution:\n",
    "    def findLonely(self, nums: List[int]) -> List[int]:\n",
    "        visited_count = defaultdict(int)\n",
    "        result = []\n",
    "        \n",
    "        for num in nums: visited_count[num] += 1\n",
    "        \n",
    "        while nums:\n",
    "            popped = nums.pop()\n",
    "            self_count = visited_count[popped]\n",
    "            left = visited_count[popped-1]\n",
    "            right = visited_count[popped+1]\n",
    "            if left == 0 and right == 0 and self_count == 1:\n",
    "                result.append(popped)\n",
    "                \n",
    "        return result"
   ],
   "metadata": {
    "collapsed": false
   },
   "id": "606e63d628af1f10"
  }
 ],
 "metadata": {
  "kernelspec": {
   "display_name": "Python 3",
   "language": "python",
   "name": "python3"
  },
  "language_info": {
   "codemirror_mode": {
    "name": "ipython",
    "version": 2
   },
   "file_extension": ".py",
   "mimetype": "text/x-python",
   "name": "python",
   "nbconvert_exporter": "python",
   "pygments_lexer": "ipython2",
   "version": "2.7.6"
  }
 },
 "nbformat": 4,
 "nbformat_minor": 5
}
