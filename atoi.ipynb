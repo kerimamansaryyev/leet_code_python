{
 "cells": [
  {
   "cell_type": "markdown",
   "source": [
    "# String to Integer (atoi)\n",
    "## Intuition\n",
    "1. Trim the given string `s`\n",
    "2. Define the default sign as 1\n",
    "3. Start popping and retrieving the elements of `s` from the beginning\n",
    "4. "
   ],
   "metadata": {
    "collapsed": false
   },
   "id": "71b7100edfcb5715"
  },
  {
   "cell_type": "code",
   "outputs": [],
   "source": [
    "class Solution:\n",
    "    def myAtoi(self, s: str) -> int:\n",
    "        result = 0\n",
    "        digit_found = False\n",
    "        preceding_sign = 1\n",
    "        s = list(s.strip())\n",
    "        while s:\n",
    "            sym = s.pop(0)\n",
    "            if sym == '+' or sym == '-':\n",
    "                if digit_found: break\n",
    "                preceding_sign *= (-1 if sym == '-' else 1)\n",
    "                digit_found = True\n",
    "            elif sym == '0' and result == 0:\n",
    "                digit_found = True\n",
    "            elif sym.isdigit():\n",
    "                digit_found = True\n",
    "                digit = int(sym)\n",
    "                if result == 0: result = digit; continue\n",
    "                result *= 10\n",
    "                result += digit\n",
    "            else:\n",
    "                break\n",
    "        result = result * preceding_sign\n",
    "        if result < -2 ** 31: return -2 ** 31\n",
    "        if result > (2 ** 31) - 1: return (2 ** 31) - 1\n",
    "        return result"
   ],
   "metadata": {
    "collapsed": false,
    "ExecuteTime": {
     "end_time": "2024-05-09T17:52:49.044131Z",
     "start_time": "2024-05-09T17:52:49.040028Z"
    }
   },
   "id": "71462637b91bf2dd",
   "execution_count": 29
  },
  {
   "cell_type": "code",
   "outputs": [
    {
     "name": "stdout",
     "output_type": "stream",
     "text": [
      "0\n"
     ]
    },
    {
     "data": {
      "text/plain": "0"
     },
     "execution_count": 30,
     "metadata": {},
     "output_type": "execute_result"
    }
   ],
   "source": [
    "Solution().myAtoi(' hello ')"
   ],
   "metadata": {
    "collapsed": false,
    "ExecuteTime": {
     "end_time": "2024-05-09T17:52:49.050234Z",
     "start_time": "2024-05-09T17:52:49.047036Z"
    }
   },
   "id": "7300cd09db47ef96",
   "execution_count": 30
  },
  {
   "cell_type": "code",
   "outputs": [
    {
     "name": "stdout",
     "output_type": "stream",
     "text": [
      "42\n"
     ]
    },
    {
     "data": {
      "text/plain": "42"
     },
     "execution_count": 31,
     "metadata": {},
     "output_type": "execute_result"
    }
   ],
   "source": [
    "Solution().myAtoi('42')"
   ],
   "metadata": {
    "collapsed": false,
    "ExecuteTime": {
     "end_time": "2024-05-09T17:52:49.053960Z",
     "start_time": "2024-05-09T17:52:49.051389Z"
    }
   },
   "id": "9c96cdd4d5bddd0c",
   "execution_count": 31
  },
  {
   "cell_type": "code",
   "outputs": [
    {
     "name": "stdout",
     "output_type": "stream",
     "text": [
      "42\n"
     ]
    },
    {
     "data": {
      "text/plain": "-42"
     },
     "execution_count": 32,
     "metadata": {},
     "output_type": "execute_result"
    }
   ],
   "source": [
    "Solution().myAtoi(' -042')"
   ],
   "metadata": {
    "collapsed": false,
    "ExecuteTime": {
     "end_time": "2024-05-09T17:52:49.057339Z",
     "start_time": "2024-05-09T17:52:49.054874Z"
    }
   },
   "id": "ec2c0da1e898cae3",
   "execution_count": 32
  },
  {
   "cell_type": "code",
   "outputs": [
    {
     "name": "stdout",
     "output_type": "stream",
     "text": [
      "12\n"
     ]
    },
    {
     "data": {
      "text/plain": "-12"
     },
     "execution_count": 33,
     "metadata": {},
     "output_type": "execute_result"
    }
   ],
   "source": [
    "Solution().myAtoi('-+12')"
   ],
   "metadata": {
    "collapsed": false,
    "ExecuteTime": {
     "end_time": "2024-05-09T17:52:50.478442Z",
     "start_time": "2024-05-09T17:52:50.474095Z"
    }
   },
   "id": "de2bff59756a2ce5",
   "execution_count": 33
  }
 ],
 "metadata": {
  "kernelspec": {
   "display_name": "Python 3",
   "language": "python",
   "name": "python3"
  },
  "language_info": {
   "codemirror_mode": {
    "name": "ipython",
    "version": 2
   },
   "file_extension": ".py",
   "mimetype": "text/x-python",
   "name": "python",
   "nbconvert_exporter": "python",
   "pygments_lexer": "ipython2",
   "version": "2.7.6"
  }
 },
 "nbformat": 4,
 "nbformat_minor": 5
}
