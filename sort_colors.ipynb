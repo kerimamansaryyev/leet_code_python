{
 "cells": [
  {
   "cell_type": "markdown",
   "source": [
    "# Sort Colors\n",
    "## Intuition\n",
    "Use the bucket sort approach:\n",
    "1. Count all occurrences of red, white, blue correspondingly saving them in `colors_count` which has slots for counting each of the colors.\n",
    "2. Empty `nums` by slicing it into the empty list.\n",
    "3. Traverse through `colors_count` and extend the `nums` with a batch of numbers with a value of the color index multiplied by its count value. "
   ],
   "metadata": {
    "collapsed": false
   },
   "id": "39b1a5b69063fbc8"
  },
  {
   "cell_type": "code",
   "execution_count": 15,
   "id": "initial_id",
   "metadata": {
    "collapsed": true,
    "ExecuteTime": {
     "end_time": "2024-03-14T16:55:38.631590Z",
     "start_time": "2024-03-14T16:55:38.626932Z"
    }
   },
   "outputs": [],
   "source": [
    "from typing import List\n",
    "\n",
    "\n",
    "class Solution:\n",
    "    def sortColors(self, nums: List[int]) -> None:\n",
    "        colors_count = [0, 0, 0]\n",
    "        while nums: colors_count[nums.pop(0)] += 1\n",
    "        for i in range(3):\n",
    "            if colors_count[i] != 0: nums.extend([i] * colors_count[i])"
   ]
  },
  {
   "cell_type": "code",
   "outputs": [],
   "source": [
    "Solution().sortColors([2,0,2,1,1,0])"
   ],
   "metadata": {
    "collapsed": false,
    "ExecuteTime": {
     "end_time": "2024-03-14T16:55:41.165787Z",
     "start_time": "2024-03-14T16:55:41.162523Z"
    }
   },
   "id": "be740534b5307dbf",
   "execution_count": 16
  }
 ],
 "metadata": {
  "kernelspec": {
   "display_name": "Python 3",
   "language": "python",
   "name": "python3"
  },
  "language_info": {
   "codemirror_mode": {
    "name": "ipython",
    "version": 2
   },
   "file_extension": ".py",
   "mimetype": "text/x-python",
   "name": "python",
   "nbconvert_exporter": "python",
   "pygments_lexer": "ipython2",
   "version": "2.7.6"
  }
 },
 "nbformat": 4,
 "nbformat_minor": 5
}
