{
 "cells": [
  {
   "cell_type": "markdown",
   "source": [
    "# Find All Numbers Disappeared in an Array\n",
    "## Intuition\n",
    "1. A problem states that there is a possible range of integers from 1 to `n` inclusively. This means that the least possible number is 1 and the largest number is `n`.\n",
    "2. That's why we create `ans` list to hold binary value (0 or 1) for a number appearance at the index that is respective to the number. \n",
    "3. Reassign the resultant list to the original `nums` list and return it to obey space the space constraint of only one allowed list as a space. Save only the values that did not occur in the original nums."
   ],
   "metadata": {
    "collapsed": false
   },
   "id": "209e4b73fb778ac4"
  },
  {
   "cell_type": "code",
   "outputs": [],
   "source": [
    "from typing import List\n",
    "\n",
    "\n",
    "class Solution:\n",
    "    def findDisappearedNumbers(self, nums: List[int]) -> List[int]:\n",
    "        min_num = 1\n",
    "        max_num = len(nums)\n",
    "        ans = [0]\n",
    "\n",
    "        for i in range(min_num, max_num + 1):\n",
    "            ans.append(1)\n",
    "        for num in nums:\n",
    "            ans[num] = 0\n",
    "\n",
    "        nums = [i for i in range(0, max_num + 1) if ans[i] == 1]\n",
    "\n",
    "        return nums"
   ],
   "metadata": {
    "collapsed": true,
    "ExecuteTime": {
     "end_time": "2024-03-04T21:04:05.032654Z",
     "start_time": "2024-03-04T21:04:05.028917Z"
    }
   },
   "id": "initial_id",
   "execution_count": 10
  },
  {
   "cell_type": "code",
   "outputs": [
    {
     "data": {
      "text/plain": "[5, 6]"
     },
     "execution_count": 11,
     "metadata": {},
     "output_type": "execute_result"
    }
   ],
   "source": [
    "Solution().findDisappearedNumbers([4, 3, 2, 7, 8, 2, 3, 1])"
   ],
   "metadata": {
    "collapsed": false,
    "ExecuteTime": {
     "end_time": "2024-03-04T21:04:05.444125Z",
     "start_time": "2024-03-04T21:04:05.441564Z"
    }
   },
   "id": "dda0a55f3f55330f",
   "execution_count": 11
  }
 ],
 "metadata": {
  "kernelspec": {
   "display_name": "Python 3",
   "language": "python",
   "name": "python3"
  },
  "language_info": {
   "codemirror_mode": {
    "name": "ipython",
    "version": 2
   },
   "file_extension": ".py",
   "mimetype": "text/x-python",
   "name": "python",
   "nbconvert_exporter": "python",
   "pygments_lexer": "ipython2",
   "version": "2.7.6"
  }
 },
 "nbformat": 4,
 "nbformat_minor": 5
}
