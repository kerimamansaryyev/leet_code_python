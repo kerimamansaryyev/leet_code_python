{
 "cells": [
  {
   "cell_type": "markdown",
   "source": [
    "# Roman To Integer\n",
    "\n",
    "## Intuition1\n",
    "1. Maps values and preceding roman numbers"
   ],
   "metadata": {
    "collapsed": false
   },
   "id": "50ec170a01a77b81"
  },
  {
   "cell_type": "code",
   "outputs": [],
   "source": [
    "PRECEDENCE = {\n",
    "    'V': 'I',\n",
    "    'X': 'I',\n",
    "    'C': 'X',\n",
    "    'L': 'X',\n",
    "    'D': 'C',\n",
    "    'M': 'C'\n",
    "}\n",
    "VALUES = {\n",
    "    'I': 1,\n",
    "    'V': 5,\n",
    "    'X': 10,\n",
    "    'L': 50,\n",
    "    'C': 100,\n",
    "    'D': 500,\n",
    "    'M': 1000\n",
    "}"
   ],
   "metadata": {
    "collapsed": false,
    "ExecuteTime": {
     "end_time": "2024-03-01T16:43:04.163711Z",
     "start_time": "2024-03-01T16:43:04.160958Z"
    }
   },
   "id": "716960adabb35d93",
   "execution_count": 20
  },
  {
   "cell_type": "markdown",
   "source": [
    "2. Traverse through the characters adding its value from `VALUES` to `result` but subtract value of preceding number twice if applicable."
   ],
   "metadata": {
    "collapsed": false
   },
   "id": "84961326ba83bdb9"
  },
  {
   "cell_type": "code",
   "outputs": [],
   "source": [
    "class Solution:\n",
    "    def romanToInt(self, s: str) -> int:\n",
    "        if len(s) <= 1:\n",
    "            return VALUES[s[0]]\n",
    "        result = VALUES[s[0]]\n",
    "        for i in range(1, len(s)):\n",
    "            neighbor = s[i - 1]\n",
    "            result += VALUES[s[i]] + (0 if neighbor != PRECEDENCE.get(s[i]) else -2 * VALUES[neighbor])\n",
    "        return result"
   ],
   "metadata": {
    "collapsed": false,
    "ExecuteTime": {
     "end_time": "2024-03-01T16:43:04.168223Z",
     "start_time": "2024-03-01T16:43:04.165359Z"
    }
   },
   "id": "9252925d8c8c25a1",
   "execution_count": 21
  },
  {
   "cell_type": "code",
   "outputs": [
    {
     "data": {
      "text/plain": "3"
     },
     "execution_count": 22,
     "metadata": {},
     "output_type": "execute_result"
    }
   ],
   "source": [
    "## Check by feeding input\n",
    "Solution().romanToInt('III')"
   ],
   "metadata": {
    "collapsed": false,
    "ExecuteTime": {
     "end_time": "2024-03-01T16:43:04.173116Z",
     "start_time": "2024-03-01T16:43:04.171035Z"
    }
   },
   "id": "597db8a20ecf4c25",
   "execution_count": 22
  },
  {
   "cell_type": "code",
   "outputs": [
    {
     "data": {
      "text/plain": "1994"
     },
     "execution_count": 23,
     "metadata": {},
     "output_type": "execute_result"
    }
   ],
   "source": [
    "Solution().romanToInt('MCMXCIV')"
   ],
   "metadata": {
    "collapsed": false,
    "ExecuteTime": {
     "end_time": "2024-03-01T16:43:06.926329Z",
     "start_time": "2024-03-01T16:43:06.923474Z"
    }
   },
   "id": "72832524959ad8a5",
   "execution_count": 23
  },
  {
   "cell_type": "markdown",
   "source": [
    "## Improvement 1\n",
    "\n",
    "Reducing map read time unifying values and precedence into one dictionary"
   ],
   "metadata": {
    "collapsed": false
   },
   "id": "3a03086fa3af6407"
  },
  {
   "cell_type": "code",
   "outputs": [],
   "source": [
    "VALUE_PRECEDENCE = {\n",
    "    'I': [None, 1],\n",
    "    'V': ['I', 5],\n",
    "    'X': ['I', 10],\n",
    "    'L': ['X', 50],\n",
    "    'C': ['X', 100],\n",
    "    'D': ['C', 500],\n",
    "    'M': ['C', 1000]\n",
    "}\n",
    "class Solution:\n",
    "    def romanToInt(self, s: str) -> int:\n",
    "        if len(s) <= 1:\n",
    "            return VALUE_PRECEDENCE[s[0]][1]\n",
    "        result = VALUE_PRECEDENCE[s[0]][1]\n",
    "        for i in range(1, len(s)):\n",
    "            neighbor = s[i - 1]\n",
    "            curr_value = VALUE_PRECEDENCE[s[i]]\n",
    "            neighbor_value = VALUE_PRECEDENCE[neighbor]\n",
    "            result += curr_value[1] + (0 if neighbor != curr_value[0] else -2 * neighbor_value[1])\n",
    "        return result "
   ],
   "metadata": {
    "collapsed": false,
    "ExecuteTime": {
     "end_time": "2024-03-01T17:10:15.425993Z",
     "start_time": "2024-03-01T17:10:15.422803Z"
    }
   },
   "id": "f13d529dd1be12ec",
   "execution_count": 31
  },
  {
   "cell_type": "code",
   "outputs": [
    {
     "data": {
      "text/plain": "1"
     },
     "execution_count": 33,
     "metadata": {},
     "output_type": "execute_result"
    }
   ],
   "source": [
    "Solution().romanToInt('MCMXCIV')"
   ],
   "metadata": {
    "collapsed": false,
    "ExecuteTime": {
     "end_time": "2024-03-01T17:10:25.774473Z",
     "start_time": "2024-03-01T17:10:25.770920Z"
    }
   },
   "id": "4671d6940e80fed7",
   "execution_count": 33
  },
  {
   "cell_type": "markdown",
   "source": [
    "\n",
    "## Intuition2:\n",
    "Increasing performance by removing `PRECEDENCE` and mapping intermediate values into dictionary and checking if they exist in the `s` because we do not mind the order "
   ],
   "metadata": {
    "collapsed": false
   },
   "id": "5bee1612fa0397d4"
  },
  {
   "cell_type": "code",
   "outputs": [],
   "source": [
    "VALUES = {\n",
    "    'M': 1000,\n",
    "    'D': 500,\n",
    "    'C': 100,\n",
    "    'L': 50,\n",
    "    'X': 10,\n",
    "    'V': 5,\n",
    "    'I': 1,\n",
    "    'IV': -2,\n",
    "    'IX': -2,\n",
    "    'XL': -20,\n",
    "    'XC': -20,\n",
    "    'CD': -200,\n",
    "    'CM': -200\n",
    "}"
   ],
   "metadata": {
    "collapsed": false,
    "ExecuteTime": {
     "end_time": "2024-03-01T17:12:32.494889Z",
     "start_time": "2024-03-01T17:12:32.489269Z"
    }
   },
   "id": "6f687dba6dd62600",
   "execution_count": 34
  },
  {
   "cell_type": "markdown",
   "source": [
    "If `CM` is detected, for example, then we will neet to subtract 100 for potentially added `C` and 100 from `M` itself. Therefore, it has to be equal `-100+(-100) = -200`"
   ],
   "metadata": {
    "collapsed": false
   },
   "id": "64a499657e4e9f47"
  },
  {
   "cell_type": "code",
   "outputs": [],
   "source": [
    "class Solution:\n",
    "    def romanToInt(self, s: str) -> int:\n",
    "        if len(s) <= 1:\n",
    "            return VALUES[s[0]]\n",
    "        result = 0\n",
    "        for k, v in VALUES.items():\n",
    "            if k not in s:\n",
    "                continue\n",
    "            result += v*s.count(k)\n",
    "        return result "
   ],
   "metadata": {
    "collapsed": false,
    "ExecuteTime": {
     "end_time": "2024-03-01T17:12:34.346010Z",
     "start_time": "2024-03-01T17:12:34.342162Z"
    }
   },
   "id": "a1e65affb3a1bb2",
   "execution_count": 35
  },
  {
   "cell_type": "code",
   "outputs": [
    {
     "data": {
      "text/plain": "1994"
     },
     "execution_count": 36,
     "metadata": {},
     "output_type": "execute_result"
    }
   ],
   "source": [
    "Solution().romanToInt('MCMXCIV')"
   ],
   "metadata": {
    "collapsed": false,
    "ExecuteTime": {
     "end_time": "2024-03-01T17:12:37.310901Z",
     "start_time": "2024-03-01T17:12:37.307229Z"
    }
   },
   "id": "70c5b58557c61ef4",
   "execution_count": 36
  }
 ],
 "metadata": {
  "kernelspec": {
   "display_name": "Python 3",
   "language": "python",
   "name": "python3"
  },
  "language_info": {
   "codemirror_mode": {
    "name": "ipython",
    "version": 2
   },
   "file_extension": ".py",
   "mimetype": "text/x-python",
   "name": "python",
   "nbconvert_exporter": "python",
   "pygments_lexer": "ipython2",
   "version": "2.7.6"
  }
 },
 "nbformat": 4,
 "nbformat_minor": 5
}
