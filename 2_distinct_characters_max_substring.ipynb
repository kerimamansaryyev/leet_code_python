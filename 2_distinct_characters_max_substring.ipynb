{
 "cells": [
  {
   "cell_type": "code",
   "execution_count": 71,
   "id": "initial_id",
   "metadata": {
    "collapsed": true,
    "ExecuteTime": {
     "end_time": "2024-08-05T19:21:12.319463Z",
     "start_time": "2024-08-05T19:21:12.314609Z"
    }
   },
   "outputs": [],
   "source": [
    "class Solution:\n",
    "     def maxSubstringOf2DistinctCharacters(self, s: str) -> int:\n",
    "         curr_len = 0\n",
    "         max_len = 0\n",
    "         used_stack = []\n",
    "         visited_chars = set()\n",
    "         *s, = s\n",
    "         \n",
    "         while s:        \n",
    "            character = s[0]\n",
    "            if len(visited_chars) < 2:\n",
    "                visited_chars.add(character)\n",
    "            if character in visited_chars:\n",
    "                curr_len += 1\n",
    "                used_stack.append(character)\n",
    "                s.pop(0)\n",
    "            else:\n",
    "                max_len = max(max_len, curr_len)\n",
    "                curr_len = 0\n",
    "                visited_chars.add(character)\n",
    "                if used_stack:\n",
    "                    last = used_stack[-1]\n",
    "                    while used_stack and last == used_stack[-1]:\n",
    "                        last = used_stack.pop()\n",
    "                        s.insert(0, last)\n",
    "         \n",
    "         return max(max_len, curr_len)"
   ]
  },
  {
   "cell_type": "code",
   "outputs": [
    {
     "data": {
      "text/plain": "3"
     },
     "execution_count": 69,
     "metadata": {},
     "output_type": "execute_result"
    }
   ],
   "source": [
    "Solution().maxSubstringOf2DistinctCharacters(\"eceab\")"
   ],
   "metadata": {
    "collapsed": false,
    "ExecuteTime": {
     "end_time": "2024-08-05T19:20:59.657886Z",
     "start_time": "2024-08-05T19:20:59.654299Z"
    }
   },
   "id": "760cd7ab681789a5",
   "execution_count": 69
  },
  {
   "cell_type": "code",
   "outputs": [
    {
     "data": {
      "text/plain": "5"
     },
     "execution_count": 72,
     "metadata": {},
     "output_type": "execute_result"
    }
   ],
   "source": [
    "Solution().maxSubstringOf2DistinctCharacters(\"cccaab\")"
   ],
   "metadata": {
    "collapsed": false,
    "ExecuteTime": {
     "end_time": "2024-08-05T19:21:14.716293Z",
     "start_time": "2024-08-05T19:21:14.713260Z"
    }
   },
   "id": "bc5b3d5318e38188",
   "execution_count": 72
  }
 ],
 "metadata": {
  "kernelspec": {
   "display_name": "Python 3",
   "language": "python",
   "name": "python3"
  },
  "language_info": {
   "codemirror_mode": {
    "name": "ipython",
    "version": 2
   },
   "file_extension": ".py",
   "mimetype": "text/x-python",
   "name": "python",
   "nbconvert_exporter": "python",
   "pygments_lexer": "ipython2",
   "version": "2.7.6"
  }
 },
 "nbformat": 4,
 "nbformat_minor": 5
}
